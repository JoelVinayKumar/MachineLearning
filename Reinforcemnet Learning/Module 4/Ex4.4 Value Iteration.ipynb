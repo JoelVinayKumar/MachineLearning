{
 "cells": [
  {
   "cell_type": "code",
   "execution_count": 5,
   "metadata": {},
   "outputs": [],
   "source": [
    "\"\"\"\n",
    "DAT257x: Reinforcement Learning Explained\n",
    "Lab 4: Dynamic Programming\n",
    "Exercise 4.4 Value Iteration\n",
    "\n",
    "Value Iteration calculates the optimal policy for an MDP, given its full definition.\n",
    "The full definition of an MDP is the set of states, the set of available actions for each state, the set of rewards,\n",
    "the discount factor, and the state/reward transition function.\n",
    "\"\"\"\n",
    "\n",
    "import test_dp               # required for testing and grading your code\n",
    "import gridworld_mdp as gw   # defines the MDP for a 4x4 gridworld"
   ]
  },
  {
   "cell_type": "code",
   "execution_count": 6,
   "metadata": {},
   "outputs": [],
   "source": [
    "\"\"\"\n",
    "**Implement the algorithm for Value Iteration**.\n",
    "Value Iteration calculates the optimal policy for an MDP by iteration of a single step combining both policy evaluation and\n",
    "policy improvement. A empty function **value_iteration** is provided below; implement the body of the function to correctly\n",
    "calculate the optimal policy for an MDP.  The function defines 5 parameters - a definition of each parameter is given in\n",
    "the comment block for the function.  For sample parameter values, see the calling code in the cell following the function.\n",
    "\n",
    "This function computes the optimal value function and policy for the specified MDP, using the Value Iteration algorithm.\n",
    "    \n",
    "'state_count' is the total number of states in the MDP. States are represented as 0-relative numbers.\n",
    "   \n",
    "'gamma' is the MDP discount factor for rewards.\n",
    "    \n",
    "'theta' is the small number threshold to signal convergence of the value function (see Iterative Policy Evaluation algorithm).\n",
    "    \n",
    "'get_available_actions' returns a list of the MDP available actions for the specified state parameter.\n",
    "    \n",
    "'get_transitions' is the MDP state / reward transiton function.  It accepts two parameters, state and action, and returns\n",
    "a list of tuples, where each tuple is of the form: (next_state, reward, probabiliity).\n",
    "\"\"\"\n",
    "\n",
    "def value_iteration(state_count, gamma, theta, get_available_actions, get_transitions):\n",
    "    V = state_count*[0] \n",
    "    pi = state_count*[0]\n",
    "    \n",
    "    for s in range(state_count):\n",
    "        avail_actions = get_available_actions(s)\n",
    "        pi[s] = avail_actions[0]\n",
    "        \n",
    "    while True:\n",
    "        delta = 0\n",
    "        for s in range(state_count):\n",
    "            v = V[s]\n",
    "            max_ = -float('inf')\n",
    "            for action in get_available_actions(s):\n",
    "                a = 0\n",
    "                for (trans) in get_transitions(state=s, action=action):\n",
    "                    next_state, reward, probability = trans\n",
    "                    a += probability * (reward + gamma * V[next_state])\n",
    "                if a > max_:\n",
    "                    max_ = a\n",
    "            V[s] = max_\n",
    "            delta = max(delta, abs(v - V[s]))\n",
    "        if (delta < theta): break\n",
    "    for s in range(state_count):\n",
    "        arg_max = \"\"\n",
    "        max_ = -float('inf')\n",
    "        for action in get_available_actions(s):\n",
    "            a = 0\n",
    "            for (trans) in get_transitions(state=s, action=action):\n",
    "                next_state, reward, probability = trans\n",
    "                a += probability * (reward + gamma * V[next_state])\n",
    "            if a > max_:\n",
    "                arg_max = action\n",
    "                max_ = a\n",
    "        pi[s] = arg_max\n",
    "    return (V, pi)\n",
    "#  V -> Value\n",
    "#  pi -> Final policy"
   ]
  },
  {
   "cell_type": "code",
   "execution_count": 7,
   "metadata": {},
   "outputs": [
    {
     "name": "stdout",
     "output_type": "stream",
     "text": [
      "Values= [0.0, -1.0, -1.9, -2.71, -1.0, -1.9, -2.71, -1.9, -1.9, -2.71, -1.9, -1.0, -2.71, -1.9, -1.0]\n",
      "Policy= ['up', 'left', 'left', 'down', 'up', 'up', 'up', 'down', 'up', 'up', 'down', 'down', 'up', 'right', 'right']\n"
     ]
    }
   ],
   "source": [
    "# First, test our function using the MDP defined by gw.* functions.\n",
    "\n",
    "n_states = gw.get_state_count()\n",
    "\n",
    "values, policy = value_iteration(state_count=n_states, gamma=.9, theta=.001, get_available_actions=gw.get_available_actions, \\\n",
    "    get_transitions=gw.get_transitions)\n",
    "\n",
    "print(\"Values=\", values)\n",
    "print(\"Policy=\", policy)"
   ]
  },
  {
   "cell_type": "markdown",
   "metadata": {},
   "source": [
    "**Expected output from running above cell:**\n",
    "\n",
    "`\n",
    "Values= [0.0, -1.0, -1.9, -2.71, -1.0, -1.9, -2.71, -1.9, -1.9, -2.71, -1.9, -1.0, -2.71, -1.9, -1.0]\n",
    "Policy= ['up', 'left', 'left', 'down', 'up', 'up', 'up', 'down', 'up', 'up', 'down', 'down', 'up', 'right', 'right']\n",
    "`"
   ]
  },
  {
   "cell_type": "code",
   "execution_count": 8,
   "metadata": {},
   "outputs": [
    {
     "name": "stdout",
     "output_type": "stream",
     "text": [
      "\n",
      "Testing: Value Iteration\n",
      "passed test: return value is tuple\n",
      "passed test: length of tuple = 2\n",
      "passed test: v is list of length=15\n",
      "passed test: values of v elements\n",
      "passed test: pi is list of length=15\n",
      "passed test: values of pi elements\n",
      "PASSED: Value Iteration passcode = 9990-000\n"
     ]
    }
   ],
   "source": [
    "# Now, test our function using the test_dp helper.  The helper also uses the gw MDP, but with a different gamma value.\n",
    "# If our function passes all tests, a passcode will be printed.\n",
    "\n",
    "test_dp.value_iteration_test( value_iteration ) "
   ]
  }
 ],
 "metadata": {
  "kernelspec": {
   "display_name": "Python 3",
   "language": "python",
   "name": "python3"
  },
  "language_info": {
   "codemirror_mode": {
    "name": "ipython",
    "version": 3
   },
   "file_extension": ".py",
   "mimetype": "text/x-python",
   "name": "python",
   "nbconvert_exporter": "python",
   "pygments_lexer": "ipython3",
   "version": "3.7.2"
  }
 },
 "nbformat": 4,
 "nbformat_minor": 2
}
