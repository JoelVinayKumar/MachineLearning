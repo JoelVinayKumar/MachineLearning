{
 "cells": [
  {
   "cell_type": "code",
   "execution_count": 3,
   "metadata": {},
   "outputs": [],
   "source": [
    "\"\"\"\n",
    "DAT257x: Reinforcement Learning Explained\n",
    "Lab 4: Dynamic Programming\n",
    "Exercise 4.2 Policy Evaluation using in-place method\n",
    "\n",
    "Policy Evaluation calculates the value function for a policy, given the policy and the full definition \n",
    "of the associated Markov Decision Process.  The full definition of an MDP is the set of states,\n",
    "the set of available actions for each state, the set of rewards, the discount factor, and the state/reward\n",
    "\"\"\" \n",
    "# transition function.\n",
    "\n",
    "import test_dp               \n",
    "import gridworld_mdp as gw"
   ]
  },
  {
   "cell_type": "code",
   "execution_count": 4,
   "metadata": {},
   "outputs": [],
   "source": [
    "\"\"\"\n",
    "**Implement the algorithm for Iterative Policy Evaluation using the in-place approach**.\n",
    "In the in-place approach, one array holds the values being estimated for each state and the same array is used\n",
    "for estimates of states needed by the algorithm.\n",
    "\n",
    "A empty function **policy_eval_in_place** is provided below; implement the body of the function to correctly\n",
    "calculate the value of the policy using the 2 array approach. The function defines 5 parameters - a definition\n",
    "of each parameter is given in the comment block for the function. For sample parameter values, see the calling code\n",
    "in the cell following the function.\n",
    "\n",
    "This function uses the two-array approach to evaluate the specified policy for the specified MDP:\n",
    "\n",
    "'state_count' is the total number of states in the MDP. States are represented as 0-relative numbers.\n",
    "'gamma' is the MDP discount factor for rewards.\n",
    "'theta' is the small number threshold to signal convergence of the value function (see Iterative Policy Evaluation algorithm).\n",
    "'get_policy' is the stochastic policy function - it takes a state parameter and returns list of tuples, \n",
    "    where each tuple is of the form: (action, probability).  It represents the policy being evaluated.\n",
    "'get_transitions' is the state/reward transiton function.  It accepts two parameters, state and action, and returns\n",
    "    a list of tuples, where each tuple is of the form: (next_state, reward, probabiliity).  \n",
    "    \n",
    "\"\"\"\n",
    "\n",
    "def policy_eval_in_place(state_count, gamma, theta, get_policy, get_transitions):\n",
    "    V = state_count*[0]\n",
    "\n",
    "    while True:\n",
    "        delta = 0\n",
    "        for s in range(state_count):\n",
    "            v = V[s]\n",
    "            a = 0\n",
    "            for action, action_prob in get_policy(s):\n",
    "                transitions = get_transitions(state=s, action=action)\n",
    "                for (trans) in transitions:\n",
    "                    next_state, reward, probability = trans    # unpack tuple\n",
    "                    a += action_prob * probability * (reward + gamma * V[next_state])    \n",
    "            V[s] = a    \n",
    "            delta = max(delta, abs(v - V[s]))\n",
    "        if (delta < theta): break\n",
    "    return V"
   ]
  },
  {
   "cell_type": "code",
   "execution_count": 5,
   "metadata": {},
   "outputs": [
    {
     "name": "stdout",
     "output_type": "stream",
     "text": [
      "Values= [0.0, -5.275906485600302, -7.125803667372325, -7.647729922717661, -5.275906485600302, -6.604213913250977, -7.1785079112764745, -7.126384243656092, -7.125803667372325, -7.178507911276475, -6.604678371775787, -5.276663994322859, -7.647729922717662, -7.1263842436560925, -5.27666399432286]\n"
     ]
    }
   ],
   "source": [
    "# First, test our function using the MDP defined by gw.* functions.\n",
    "\n",
    "def get_equal_policy(state):\n",
    "    policy = ( (\"up\", .25), (\"right\", .25), (\"down\", .25), (\"left\", .25))\n",
    "    return policy\n",
    "\n",
    "n_states = gw.get_state_count()\n",
    "\n",
    "values = policy_eval_in_place(state_count=n_states, gamma=.9, theta=.001, get_policy=get_equal_policy, \\\n",
    "    get_transitions=gw.get_transitions)\n",
    "\n",
    "print(\"Values=\", values)"
   ]
  },
  {
   "cell_type": "markdown",
   "metadata": {},
   "source": [
    "**Expected output from running above cell:**\n",
    "\n",
    "`\n",
    "Values= [0.0, -5.275906485600302, -7.125803667372325, -7.647729922717661, -5.275906485600302, -6.604213913250977, -7.1785079112764745, -7.126384243656092, -7.125803667372325, -7.178507911276475, -6.604678371775787, -5.276663994322859, -7.647729922717662, -7.1263842436560925, -5.27666399432286]\n",
    "`"
   ]
  },
  {
   "cell_type": "code",
   "execution_count": 7,
   "metadata": {},
   "outputs": [
    {
     "name": "stdout",
     "output_type": "stream",
     "text": [
      "\n",
      "Testing: Policy Evaluation (in-place)\n",
      "passed test: return value is list\n",
      "passed test: length of list = 15\n",
      "passed test: values of list elements\n",
      "PASSED: Policy Evaluation (in-place) passcode = 9991-562\n"
     ]
    }
   ],
   "source": [
    "# Now, test our function using the test_dp helper.  The helper also uses the gw MDP, but with a different gamma value.\n",
    "# If our function passes all tests, a passcode will be printed.\n",
    "\n",
    "test_dp.policy_eval_in_place_test(policy_eval_in_place)   "
   ]
  }
 ],
 "metadata": {
  "kernelspec": {
   "display_name": "Python 3",
   "language": "python",
   "name": "python3"
  },
  "language_info": {
   "codemirror_mode": {
    "name": "ipython",
    "version": 3
   },
   "file_extension": ".py",
   "mimetype": "text/x-python",
   "name": "python",
   "nbconvert_exporter": "python",
   "pygments_lexer": "ipython3",
   "version": "3.7.1"
  }
 },
 "nbformat": 4,
 "nbformat_minor": 2
}
