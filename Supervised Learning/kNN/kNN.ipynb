{
 "cells": [
  {
   "cell_type": "markdown",
   "metadata": {},
   "source": [
    "## k-Nearest Neighbors\n",
    "In pattern recognition, the k-nearest neighbors algorithm (k-NN) is a non-parametric method used for classification and regression.In both cases, the input consists of the k closest training examples in the feature space."
   ]
  },
  {
   "cell_type": "code",
   "execution_count": 1,
   "metadata": {},
   "outputs": [],
   "source": [
    "# Import all necessary modules\n",
    "\n",
    "import pandas as pd\n",
    "from scipy.io import arff\n",
    "import numpy as np\n",
    "import seaborn as sns\n",
    "import matplotlib.pyplot as plt\n",
    "import operator\n",
    "import math\n",
    "from sklearn import preprocessing"
   ]
  },
  {
   "cell_type": "code",
   "execution_count": 2,
   "metadata": {},
   "outputs": [
    {
     "data": {
      "text/html": [
       "<div>\n",
       "<style scoped>\n",
       "    .dataframe tbody tr th:only-of-type {\n",
       "        vertical-align: middle;\n",
       "    }\n",
       "\n",
       "    .dataframe tbody tr th {\n",
       "        vertical-align: top;\n",
       "    }\n",
       "\n",
       "    .dataframe thead th {\n",
       "        text-align: right;\n",
       "    }\n",
       "</style>\n",
       "<table border=\"1\" class=\"dataframe\">\n",
       "  <thead>\n",
       "    <tr style=\"text-align: right;\">\n",
       "      <th></th>\n",
       "      <th>Type</th>\n",
       "      <th>LifeStyle</th>\n",
       "      <th>Vacation</th>\n",
       "      <th>eCredit</th>\n",
       "      <th>salary</th>\n",
       "      <th>property</th>\n",
       "      <th>label</th>\n",
       "    </tr>\n",
       "  </thead>\n",
       "  <tbody>\n",
       "    <tr>\n",
       "      <th>0</th>\n",
       "      <td>student</td>\n",
       "      <td>spend&gt;saving</td>\n",
       "      <td>6.0</td>\n",
       "      <td>40.0</td>\n",
       "      <td>13.62</td>\n",
       "      <td>3.2804</td>\n",
       "      <td>C1</td>\n",
       "    </tr>\n",
       "    <tr>\n",
       "      <th>1</th>\n",
       "      <td>student</td>\n",
       "      <td>spend&gt;saving</td>\n",
       "      <td>11.0</td>\n",
       "      <td>21.0</td>\n",
       "      <td>15.32</td>\n",
       "      <td>2.0232</td>\n",
       "      <td>C1</td>\n",
       "    </tr>\n",
       "    <tr>\n",
       "      <th>2</th>\n",
       "      <td>student</td>\n",
       "      <td>spend&gt;saving</td>\n",
       "      <td>7.0</td>\n",
       "      <td>64.0</td>\n",
       "      <td>16.55</td>\n",
       "      <td>3.1202</td>\n",
       "      <td>C1</td>\n",
       "    </tr>\n",
       "    <tr>\n",
       "      <th>3</th>\n",
       "      <td>student</td>\n",
       "      <td>spend&gt;saving</td>\n",
       "      <td>3.0</td>\n",
       "      <td>47.0</td>\n",
       "      <td>15.71</td>\n",
       "      <td>3.4022</td>\n",
       "      <td>C1</td>\n",
       "    </tr>\n",
       "    <tr>\n",
       "      <th>4</th>\n",
       "      <td>student</td>\n",
       "      <td>spend&gt;saving</td>\n",
       "      <td>15.0</td>\n",
       "      <td>10.0</td>\n",
       "      <td>16.96</td>\n",
       "      <td>2.2825</td>\n",
       "      <td>C1</td>\n",
       "    </tr>\n",
       "  </tbody>\n",
       "</table>\n",
       "</div>"
      ],
      "text/plain": [
       "      Type     LifeStyle  Vacation  eCredit  salary  property label\n",
       "0  student  spend>saving       6.0     40.0   13.62    3.2804    C1\n",
       "1  student  spend>saving      11.0     21.0   15.32    2.0232    C1\n",
       "2  student  spend>saving       7.0     64.0   16.55    3.1202    C1\n",
       "3  student  spend>saving       3.0     47.0   15.71    3.4022    C1\n",
       "4  student  spend>saving      15.0     10.0   16.96    2.2825    C1"
      ]
     },
     "execution_count": 2,
     "metadata": {},
     "output_type": "execute_result"
    }
   ],
   "source": [
    "# Loading the data\n",
    "\n",
    "datatrain = arff.loadarff('trainProdSelection.arff')\n",
    "dtrain = pd.DataFrame(datatrain[0])\n",
    "str_df = dtrain.select_dtypes([np.object])\n",
    "str_df = str_df.stack().str.decode('utf-8').unstack()\n",
    "for i in str_df:\n",
    "    dtrain[i] = str_df[i]\n",
    "dtrain.head()"
   ]
  },
  {
   "cell_type": "code",
   "execution_count": 3,
   "metadata": {},
   "outputs": [
    {
     "data": {
      "text/plain": [
       "(186, 7)"
      ]
     },
     "execution_count": 3,
     "metadata": {},
     "output_type": "execute_result"
    }
   ],
   "source": [
    "# Train dataset size\n",
    "dtrain.shape"
   ]
  },
  {
   "cell_type": "code",
   "execution_count": 4,
   "metadata": {},
   "outputs": [
    {
     "data": {
      "text/plain": [
       "array(['C1', 'C2', 'C3', 'C4', 'C5'], dtype=object)"
      ]
     },
     "execution_count": 4,
     "metadata": {},
     "output_type": "execute_result"
    }
   ],
   "source": [
    "# Finding unique lables from train dataset\n",
    "dtrain.label.unique()"
   ]
  },
  {
   "cell_type": "code",
   "execution_count": 5,
   "metadata": {},
   "outputs": [
    {
     "data": {
      "text/plain": [
       "engineer     49\n",
       "professor    39\n",
       "student      38\n",
       "doctor       37\n",
       "librarian    23\n",
       "Name: Type, dtype: int64"
      ]
     },
     "execution_count": 5,
     "metadata": {},
     "output_type": "execute_result"
    }
   ],
   "source": [
    "# Count of each attribute\n",
    "dtrain.Type.value_counts()"
   ]
  },
  {
   "cell_type": "code",
   "execution_count": 6,
   "metadata": {},
   "outputs": [
    {
     "data": {
      "image/png": "[encoded data removed]",
      "text/plain": [
       "<Figure size 432x288 with 1 Axes>"
      ]
     },
     "metadata": {
      "needs_background": "light"
     },
     "output_type": "display_data"
    },
    {
     "data": {
      "image/png": "[encoded data removed]",
      "text/plain": [
       "<Figure size 432x288 with 1 Axes>"
      ]
     },
     "metadata": {
      "needs_background": "light"
     },
     "output_type": "display_data"
    },
    {
     "data": {
      "image/png": "[encoded data removed]",
      "text/plain": [
       "<Figure size 432x288 with 1 Axes>"
      ]
     },
     "metadata": {
      "needs_background": "light"
     },
     "output_type": "display_data"
    },
    {
     "data": {
      "image/png": "[encoded data removed]",
      "text/plain": [
       "<Figure size 432x288 with 1 Axes>"
      ]
     },
     "metadata": {
      "needs_background": "light"
     },
     "output_type": "display_data"
    }
   ],
   "source": [
    "# Plotted graph for Vacation-Observations,eCredit-Observations,salary-Observations,property-Observations\n",
    "\n",
    "%matplotlib inline\n",
    "from matplotlib import pyplot as plt\n",
    "for i in [\"Vacation\",\"eCredit\",\"salary\",\"property\"]:\n",
    "    plt.hist(dtrain[i])\n",
    "    plt.xlabel(i)\n",
    "    plt.ylabel(\"Observations\")\n",
    "    plt.show()"
   ]
  },
  {
   "cell_type": "code",
   "execution_count": 7,
   "metadata": {},
   "outputs": [
    {
     "data": {
      "text/html": [
       "<div>\n",
       "<style scoped>\n",
       "    .dataframe tbody tr th:only-of-type {\n",
       "        vertical-align: middle;\n",
       "    }\n",
       "\n",
       "    .dataframe tbody tr th {\n",
       "        vertical-align: top;\n",
       "    }\n",
       "\n",
       "    .dataframe thead th {\n",
       "        text-align: right;\n",
       "    }\n",
       "</style>\n",
       "<table border=\"1\" class=\"dataframe\">\n",
       "  <thead>\n",
       "    <tr style=\"text-align: right;\">\n",
       "      <th></th>\n",
       "      <th>Type</th>\n",
       "      <th>LifeStyle</th>\n",
       "      <th>Vacation</th>\n",
       "      <th>eCredit</th>\n",
       "      <th>salary</th>\n",
       "      <th>property</th>\n",
       "      <th>label</th>\n",
       "    </tr>\n",
       "  </thead>\n",
       "  <tbody>\n",
       "    <tr>\n",
       "      <th>0</th>\n",
       "      <td>student</td>\n",
       "      <td>spend&gt;saving</td>\n",
       "      <td>0.079365</td>\n",
       "      <td>0.107558</td>\n",
       "      <td>0.219960</td>\n",
       "      <td>0.183167</td>\n",
       "      <td>C1</td>\n",
       "    </tr>\n",
       "    <tr>\n",
       "      <th>1</th>\n",
       "      <td>student</td>\n",
       "      <td>spend&gt;saving</td>\n",
       "      <td>0.158730</td>\n",
       "      <td>0.052326</td>\n",
       "      <td>0.293102</td>\n",
       "      <td>0.112797</td>\n",
       "      <td>C1</td>\n",
       "    </tr>\n",
       "    <tr>\n",
       "      <th>2</th>\n",
       "      <td>student</td>\n",
       "      <td>spend&gt;saving</td>\n",
       "      <td>0.095238</td>\n",
       "      <td>0.177326</td>\n",
       "      <td>0.346023</td>\n",
       "      <td>0.174200</td>\n",
       "      <td>C1</td>\n",
       "    </tr>\n",
       "    <tr>\n",
       "      <th>3</th>\n",
       "      <td>student</td>\n",
       "      <td>spend&gt;saving</td>\n",
       "      <td>0.031746</td>\n",
       "      <td>0.127907</td>\n",
       "      <td>0.309882</td>\n",
       "      <td>0.189984</td>\n",
       "      <td>C1</td>\n",
       "    </tr>\n",
       "    <tr>\n",
       "      <th>4</th>\n",
       "      <td>student</td>\n",
       "      <td>spend&gt;saving</td>\n",
       "      <td>0.222222</td>\n",
       "      <td>0.020349</td>\n",
       "      <td>0.363663</td>\n",
       "      <td>0.127311</td>\n",
       "      <td>C1</td>\n",
       "    </tr>\n",
       "  </tbody>\n",
       "</table>\n",
       "</div>"
      ],
      "text/plain": [
       "      Type     LifeStyle  Vacation   eCredit    salary  property label\n",
       "0  student  spend>saving  0.079365  0.107558  0.219960  0.183167    C1\n",
       "1  student  spend>saving  0.158730  0.052326  0.293102  0.112797    C1\n",
       "2  student  spend>saving  0.095238  0.177326  0.346023  0.174200    C1\n",
       "3  student  spend>saving  0.031746  0.127907  0.309882  0.189984    C1\n",
       "4  student  spend>saving  0.222222  0.020349  0.363663  0.127311    C1"
      ]
     },
     "execution_count": 7,
     "metadata": {},
     "output_type": "execute_result"
    }
   ],
   "source": [
    "# Finding the min and max values of Vacation, eCredit, Salary and Property\n",
    "\n",
    "minV = dtrain.Vacation.min()\n",
    "maxV = dtrain.Vacation.max()\n",
    "dtrain.Vacation = dtrain.Vacation.apply(lambda x:(x-minV)/(maxV-minV))\n",
    "mineC = dtrain.eCredit.min()\n",
    "maxeC = dtrain.eCredit.max()\n",
    "dtrain.eCredit = dtrain.eCredit.apply(lambda x:(x-mineC)/(maxeC-mineC))\n",
    "minsalary = dtrain.salary.min()\n",
    "maxsalary = dtrain.salary.max()\n",
    "dtrain.salary = dtrain.salary.apply(lambda x:(x-minsalary)/(maxsalary-minsalary))\n",
    "minp = dtrain.property.min()\n",
    "maxp = dtrain.property.max()\n",
    "dtrain.property = dtrain.property.apply(lambda x:(x-minp)/(maxp-minp))\n",
    "dtrain.head() "
   ]
  },
  {
   "cell_type": "code",
   "execution_count": 8,
   "metadata": {
    "scrolled": true
   },
   "outputs": [
    {
     "name": "stderr",
     "output_type": "stream",
     "text": [
      "/usr/lib/python3.7/site-packages/seaborn/axisgrid.py:2065: UserWarning: The `size` parameter has been renamed to `height`; pleaes update your code.\n",
      "  warnings.warn(msg, UserWarning)\n"
     ]
    },
    {
     "data": {
      "text/plain": [
       "<Figure size 432x288 with 0 Axes>"
      ]
     },
     "metadata": {},
     "output_type": "display_data"
    },
    {
     "data": {
      "image/png": "[encoded data removed]",
      "text/plain": [
       "<Figure size 913.25x864 with 20 Axes>"
      ]
     },
     "metadata": {
      "needs_background": "light"
     },
     "output_type": "display_data"
    }
   ],
   "source": [
    "# Pairplots for Vacation, eCredit, Salary and Property\n",
    "\n",
    "import seaborn as sns\n",
    "train_df = dtrain.copy()\n",
    "plt.figure()\n",
    "sns.pairplot(train_df, hue = 'label', size=3, markers=[\"o\", \"s\", \"D\",\"x\",\"+\"])\n",
    "plt.show()"
   ]
  },
  {
   "cell_type": "code",
   "execution_count": 9,
   "metadata": {},
   "outputs": [],
   "source": [
    "# Reading the similarity matrix\n",
    "\n",
    "similarityMatrix = pd.read_excel(\"similaritymatrix.xls\")"
   ]
  },
  {
   "cell_type": "code",
   "execution_count": 10,
   "metadata": {},
   "outputs": [
    {
     "data": {
      "text/html": [
       "<div>\n",
       "<style scoped>\n",
       "    .dataframe tbody tr th:only-of-type {\n",
       "        vertical-align: middle;\n",
       "    }\n",
       "\n",
       "    .dataframe tbody tr th {\n",
       "        vertical-align: top;\n",
       "    }\n",
       "\n",
       "    .dataframe thead th {\n",
       "        text-align: right;\n",
       "    }\n",
       "</style>\n",
       "<table border=\"1\" class=\"dataframe\">\n",
       "  <thead>\n",
       "    <tr style=\"text-align: right;\">\n",
       "      <th></th>\n",
       "      <th>student</th>\n",
       "      <th>engineer</th>\n",
       "      <th>librarian</th>\n",
       "      <th>professor</th>\n",
       "      <th>doctor</th>\n",
       "    </tr>\n",
       "  </thead>\n",
       "  <tbody>\n",
       "    <tr>\n",
       "      <th>student</th>\n",
       "      <td>1</td>\n",
       "      <td>0</td>\n",
       "      <td>0</td>\n",
       "      <td>0</td>\n",
       "      <td>0.0</td>\n",
       "    </tr>\n",
       "    <tr>\n",
       "      <th>engineer</th>\n",
       "      <td>0</td>\n",
       "      <td>1</td>\n",
       "      <td>0</td>\n",
       "      <td>0</td>\n",
       "      <td>0.0</td>\n",
       "    </tr>\n",
       "    <tr>\n",
       "      <th>librarian</th>\n",
       "      <td>0</td>\n",
       "      <td>0</td>\n",
       "      <td>1</td>\n",
       "      <td>0</td>\n",
       "      <td>0.0</td>\n",
       "    </tr>\n",
       "    <tr>\n",
       "      <th>professor</th>\n",
       "      <td>0</td>\n",
       "      <td>0</td>\n",
       "      <td>0</td>\n",
       "      <td>1</td>\n",
       "      <td>0.0</td>\n",
       "    </tr>\n",
       "    <tr>\n",
       "      <th>doctor</th>\n",
       "      <td>0</td>\n",
       "      <td>0</td>\n",
       "      <td>0</td>\n",
       "      <td>0</td>\n",
       "      <td>1.0</td>\n",
       "    </tr>\n",
       "    <tr>\n",
       "      <th>NaN</th>\n",
       "      <td>NaN</td>\n",
       "      <td>NaN</td>\n",
       "      <td>NaN</td>\n",
       "      <td>NaN</td>\n",
       "      <td>NaN</td>\n",
       "    </tr>\n",
       "    <tr>\n",
       "      <th>NaN</th>\n",
       "      <td>spend&lt;&lt;saving</td>\n",
       "      <td>spend&lt;saving</td>\n",
       "      <td>spend&gt;saving</td>\n",
       "      <td>spend&gt;&gt;saving</td>\n",
       "      <td>NaN</td>\n",
       "    </tr>\n",
       "    <tr>\n",
       "      <th>spend&lt;&lt;saving</th>\n",
       "      <td>1</td>\n",
       "      <td>0</td>\n",
       "      <td>0</td>\n",
       "      <td>0</td>\n",
       "      <td>NaN</td>\n",
       "    </tr>\n",
       "    <tr>\n",
       "      <th>spend&lt;saving</th>\n",
       "      <td>0</td>\n",
       "      <td>1</td>\n",
       "      <td>0</td>\n",
       "      <td>0</td>\n",
       "      <td>NaN</td>\n",
       "    </tr>\n",
       "    <tr>\n",
       "      <th>spend&gt;saving</th>\n",
       "      <td>0</td>\n",
       "      <td>0</td>\n",
       "      <td>1</td>\n",
       "      <td>0</td>\n",
       "      <td>NaN</td>\n",
       "    </tr>\n",
       "    <tr>\n",
       "      <th>spend&gt;&gt;saving</th>\n",
       "      <td>0</td>\n",
       "      <td>0</td>\n",
       "      <td>0</td>\n",
       "      <td>1</td>\n",
       "      <td>NaN</td>\n",
       "    </tr>\n",
       "  </tbody>\n",
       "</table>\n",
       "</div>"
      ],
      "text/plain": [
       "                     student      engineer     librarian      professor  \\\n",
       "student                    1             0             0              0   \n",
       "engineer                   0             1             0              0   \n",
       "librarian                  0             0             1              0   \n",
       "professor                  0             0             0              1   \n",
       "doctor                     0             0             0              0   \n",
       "NaN                      NaN           NaN           NaN            NaN   \n",
       "NaN            spend<<saving  spend<saving  spend>saving  spend>>saving   \n",
       "spend<<saving              1             0             0              0   \n",
       "spend<saving               0             1             0              0   \n",
       "spend>saving               0             0             1              0   \n",
       "spend>>saving              0             0             0              1   \n",
       "\n",
       "               doctor  \n",
       "student           0.0  \n",
       "engineer          0.0  \n",
       "librarian         0.0  \n",
       "professor         0.0  \n",
       "doctor            1.0  \n",
       "NaN               NaN  \n",
       "NaN               NaN  \n",
       "spend<<saving     NaN  \n",
       "spend<saving      NaN  \n",
       "spend>saving      NaN  \n",
       "spend>>saving     NaN  "
      ]
     },
     "execution_count": 10,
     "metadata": {},
     "output_type": "execute_result"
    }
   ],
   "source": [
    "# View content in similarity matrix\n",
    "\n",
    "similarityMatrix"
   ]
  },
  {
   "cell_type": "code",
   "execution_count": 11,
   "metadata": {},
   "outputs": [
    {
     "data": {
      "text/html": [
       "<div>\n",
       "<style scoped>\n",
       "    .dataframe tbody tr th:only-of-type {\n",
       "        vertical-align: middle;\n",
       "    }\n",
       "\n",
       "    .dataframe tbody tr th {\n",
       "        vertical-align: top;\n",
       "    }\n",
       "\n",
       "    .dataframe thead th {\n",
       "        text-align: right;\n",
       "    }\n",
       "</style>\n",
       "<table border=\"1\" class=\"dataframe\">\n",
       "  <thead>\n",
       "    <tr style=\"text-align: right;\">\n",
       "      <th></th>\n",
       "      <th>Type</th>\n",
       "      <th>LifeStyle</th>\n",
       "      <th>Vacation</th>\n",
       "      <th>eCredit</th>\n",
       "      <th>salary</th>\n",
       "      <th>property</th>\n",
       "      <th>label</th>\n",
       "    </tr>\n",
       "  </thead>\n",
       "  <tbody>\n",
       "    <tr>\n",
       "      <th>157</th>\n",
       "      <td>professor</td>\n",
       "      <td>spend&gt;saving</td>\n",
       "      <td>0.761905</td>\n",
       "      <td>0.005814</td>\n",
       "      <td>0.469504</td>\n",
       "      <td>0.104541</td>\n",
       "      <td>C5</td>\n",
       "    </tr>\n",
       "    <tr>\n",
       "      <th>158</th>\n",
       "      <td>professor</td>\n",
       "      <td>spend&gt;saving</td>\n",
       "      <td>0.777778</td>\n",
       "      <td>0.000000</td>\n",
       "      <td>0.335697</td>\n",
       "      <td>0.143885</td>\n",
       "      <td>C5</td>\n",
       "    </tr>\n",
       "    <tr>\n",
       "      <th>159</th>\n",
       "      <td>professor</td>\n",
       "      <td>spend&gt;&gt;saving</td>\n",
       "      <td>0.761905</td>\n",
       "      <td>0.005814</td>\n",
       "      <td>0.645476</td>\n",
       "      <td>0.154251</td>\n",
       "      <td>C5</td>\n",
       "    </tr>\n",
       "    <tr>\n",
       "      <th>160</th>\n",
       "      <td>professor</td>\n",
       "      <td>spend&gt;&gt;saving</td>\n",
       "      <td>0.777778</td>\n",
       "      <td>0.005814</td>\n",
       "      <td>0.611056</td>\n",
       "      <td>0.186268</td>\n",
       "      <td>C5</td>\n",
       "    </tr>\n",
       "    <tr>\n",
       "      <th>161</th>\n",
       "      <td>professor</td>\n",
       "      <td>spend&gt;&gt;saving</td>\n",
       "      <td>0.777778</td>\n",
       "      <td>0.000000</td>\n",
       "      <td>0.476818</td>\n",
       "      <td>0.161874</td>\n",
       "      <td>C5</td>\n",
       "    </tr>\n",
       "  </tbody>\n",
       "</table>\n",
       "</div>"
      ],
      "text/plain": [
       "          Type      LifeStyle  Vacation   eCredit    salary  property label\n",
       "157  professor   spend>saving  0.761905  0.005814  0.469504  0.104541    C5\n",
       "158  professor   spend>saving  0.777778  0.000000  0.335697  0.143885    C5\n",
       "159  professor  spend>>saving  0.761905  0.005814  0.645476  0.154251    C5\n",
       "160  professor  spend>>saving  0.777778  0.005814  0.611056  0.186268    C5\n",
       "161  professor  spend>>saving  0.777778  0.000000  0.476818  0.161874    C5"
      ]
     },
     "execution_count": 11,
     "metadata": {},
     "output_type": "execute_result"
    }
   ],
   "source": [
    "# Splitting the dataset in train and valid\n",
    "\n",
    "df_train = dtrain[:162]\n",
    "df_valid = dtrain[162:]\n",
    "df_train.tail()"
   ]
  },
  {
   "cell_type": "code",
   "execution_count": 12,
   "metadata": {},
   "outputs": [
    {
     "data": {
      "text/html": [
       "<div>\n",
       "<style scoped>\n",
       "    .dataframe tbody tr th:only-of-type {\n",
       "        vertical-align: middle;\n",
       "    }\n",
       "\n",
       "    .dataframe tbody tr th {\n",
       "        vertical-align: top;\n",
       "    }\n",
       "\n",
       "    .dataframe thead th {\n",
       "        text-align: right;\n",
       "    }\n",
       "</style>\n",
       "<table border=\"1\" class=\"dataframe\">\n",
       "  <thead>\n",
       "    <tr style=\"text-align: right;\">\n",
       "      <th></th>\n",
       "      <th>Type</th>\n",
       "      <th>LifeStyle</th>\n",
       "      <th>Vacation</th>\n",
       "      <th>eCredit</th>\n",
       "      <th>salary</th>\n",
       "      <th>property</th>\n",
       "      <th>label</th>\n",
       "    </tr>\n",
       "  </thead>\n",
       "  <tbody>\n",
       "    <tr>\n",
       "      <th>157</th>\n",
       "      <td>librarian</td>\n",
       "      <td>spend&gt;saving</td>\n",
       "      <td>0.095238</td>\n",
       "      <td>0.020349</td>\n",
       "      <td>0.415942</td>\n",
       "      <td>0.067979</td>\n",
       "      <td>C2</td>\n",
       "    </tr>\n",
       "    <tr>\n",
       "      <th>158</th>\n",
       "      <td>doctor</td>\n",
       "      <td>spend&gt;saving</td>\n",
       "      <td>0.095238</td>\n",
       "      <td>0.441860</td>\n",
       "      <td>0.705710</td>\n",
       "      <td>0.596881</td>\n",
       "      <td>C3</td>\n",
       "    </tr>\n",
       "    <tr>\n",
       "      <th>159</th>\n",
       "      <td>doctor</td>\n",
       "      <td>spend&gt;saving</td>\n",
       "      <td>0.158730</td>\n",
       "      <td>0.270349</td>\n",
       "      <td>0.876519</td>\n",
       "      <td>0.549662</td>\n",
       "      <td>C3</td>\n",
       "    </tr>\n",
       "    <tr>\n",
       "      <th>160</th>\n",
       "      <td>doctor</td>\n",
       "      <td>spend&gt;saving</td>\n",
       "      <td>0.111111</td>\n",
       "      <td>0.389535</td>\n",
       "      <td>0.613207</td>\n",
       "      <td>0.732773</td>\n",
       "      <td>C3</td>\n",
       "    </tr>\n",
       "    <tr>\n",
       "      <th>161</th>\n",
       "      <td>student</td>\n",
       "      <td>spend&lt;saving</td>\n",
       "      <td>0.206349</td>\n",
       "      <td>0.194767</td>\n",
       "      <td>0.581799</td>\n",
       "      <td>0.282693</td>\n",
       "      <td>C3</td>\n",
       "    </tr>\n",
       "  </tbody>\n",
       "</table>\n",
       "</div>"
      ],
      "text/plain": [
       "          Type     LifeStyle  Vacation   eCredit    salary  property label\n",
       "157  librarian  spend>saving  0.095238  0.020349  0.415942  0.067979    C2\n",
       "158     doctor  spend>saving  0.095238  0.441860  0.705710  0.596881    C3\n",
       "159     doctor  spend>saving  0.158730  0.270349  0.876519  0.549662    C3\n",
       "160     doctor  spend>saving  0.111111  0.389535  0.613207  0.732773    C3\n",
       "161    student  spend<saving  0.206349  0.194767  0.581799  0.282693    C3"
      ]
     },
     "execution_count": 12,
     "metadata": {},
     "output_type": "execute_result"
    }
   ],
   "source": [
    "# Reset the index column\n",
    "\n",
    "df_train = df_train.sample(frac=1).reset_index(drop=True)\n",
    "df_train.tail()"
   ]
  },
  {
   "cell_type": "code",
   "execution_count": 13,
   "metadata": {},
   "outputs": [],
   "source": [
    "# Building code for k-Nearest Neighbors\n",
    "\n",
    "import operator\n",
    "class knn(object):\n",
    "    \n",
    "    def __init__(self,neighbors=None,matrix1=None,matrix2=None,minV=None,maxV=None):\n",
    "        self.trainData_X = None\n",
    "        self.trainData_Y = None\n",
    "        self.neighbors = neighbors\n",
    "        self.similaritiesMatrix1 = matrix1\n",
    "        self.similaritiesMatrix2 = matrix2\n",
    "        self.maxValues = maxV\n",
    "        self.minValues = minV\n",
    "        \n",
    "    def fit(self,X,Y):\n",
    "        self.trainData_X = X\n",
    "        self.trainData_Y = Y\n",
    "    \n",
    "    def similarities(self,x1,x2):     \n",
    "        d= np.square(self.similaritiesMatrix1[x1[0]][x2[0]])\n",
    "        d+= np.square(self.similaritiesMatrix2[x1[1]][x2[1]])\n",
    "        for i in range(2,len(x1)):\n",
    "            mn,mx = self.minValues[str(i)],self.maxValues[str(i)]\n",
    "            if mx !=None or mn!=None:\n",
    "                d+= np.square((x1[i]-x2[i])/(mx-mn))\n",
    "        return np.sqrt(d)   \n",
    "    \n",
    "    def Votes(self,lst):\n",
    "        mode = [None]\n",
    "        mx=0\n",
    "        for i in range(len(lst)):\n",
    "            c=0\n",
    "            for j in range(len(lst)):\n",
    "                if lst[i]==lst[j]:\n",
    "                    c+=1\n",
    "            if mx<c:\n",
    "                if lst[i] not in mode:\n",
    "                    mode[0] = lst[i]\n",
    "                mx = c\n",
    "            elif mx==c:\n",
    "                if lst[i] not in mode:\n",
    "                    mode.append(lst[i])\n",
    "        if not mode[0]:\n",
    "            return lst\n",
    "        return mode[0]\n",
    "     \n",
    "    def predict(self,X_test,Y_test):\n",
    "        if not self.neighbors:\n",
    "            self.neighbors = 3\n",
    "        predictClass = []\n",
    "        for e in range(len(X_test)):\n",
    "            distances={}\n",
    "            for x_i in range(len(self.trainData_X)):\n",
    "                dist = self.similarities(X_test[e],self.trainData_X[x_i])\n",
    "                distances[x_i] = dist\n",
    "            sorted_d = sorted(distances.items(),key=operator.itemgetter(1))\n",
    "            kneighbors = [self.trainData_Y[x[0]] for x in sorted_d[:self.neighbors]]\n",
    "            kVotes = self.Votes(kneighbors)\n",
    "            predictClass.append(kVotes)            \n",
    "        return predictClass"
   ]
  },
  {
   "cell_type": "code",
   "execution_count": 14,
   "metadata": {},
   "outputs": [],
   "source": [
    "# Adding the min and max values of attributes to a dictionary\n",
    "\n",
    "minValues = {\"1\":None,\"2\":None,\"3\":dtrain['Vacation'].min(),\"4\":dtrain.eCredit.min(),\"5\":dtrain.salary.min(),\"6\":dtrain.property.min()}\n",
    "maxValues = {\"1\":None,\"2\":None,\"3\":dtrain.Vacation.max(),\"4\":dtrain.eCredit.max(),\"5\":dtrain.salary.max(),\"6\":dtrain.property.max()}"
   ]
  },
  {
   "cell_type": "code",
   "execution_count": 15,
   "metadata": {},
   "outputs": [],
   "source": [
    "# Calling the kNN with k=3\n",
    "\n",
    "model_valid = knn(neighbors=3,matrix1='customer_type',matrix2='lifeStyle',minV=minValues,maxV=maxValues)\n",
    "model_valid.fit(df_train.values[:,[0,1,2,3,4,5]],df_train.values[:,[6]])"
   ]
  },
  {
   "cell_type": "code",
   "execution_count": 16,
   "metadata": {},
   "outputs": [
    {
     "data": {
      "text/html": [
       "<div>\n",
       "<style scoped>\n",
       "    .dataframe tbody tr th:only-of-type {\n",
       "        vertical-align: middle;\n",
       "    }\n",
       "\n",
       "    .dataframe tbody tr th {\n",
       "        vertical-align: top;\n",
       "    }\n",
       "\n",
       "    .dataframe thead th {\n",
       "        text-align: right;\n",
       "    }\n",
       "</style>\n",
       "<table border=\"1\" class=\"dataframe\">\n",
       "  <thead>\n",
       "    <tr style=\"text-align: right;\">\n",
       "      <th></th>\n",
       "      <th>Type</th>\n",
       "      <th>LifeStyle</th>\n",
       "      <th>Vacation</th>\n",
       "      <th>eCredit</th>\n",
       "      <th>salary</th>\n",
       "      <th>property</th>\n",
       "      <th>label</th>\n",
       "    </tr>\n",
       "  </thead>\n",
       "  <tbody>\n",
       "    <tr>\n",
       "      <th>0</th>\n",
       "      <td>student</td>\n",
       "      <td>spend&lt;saving</td>\n",
       "      <td>12.0</td>\n",
       "      <td>19.0</td>\n",
       "      <td>14.7900</td>\n",
       "      <td>3.7697</td>\n",
       "      <td>C1</td>\n",
       "    </tr>\n",
       "    <tr>\n",
       "      <th>1</th>\n",
       "      <td>student</td>\n",
       "      <td>spend&gt;&gt;saving</td>\n",
       "      <td>29.0</td>\n",
       "      <td>10.0</td>\n",
       "      <td>16.1900</td>\n",
       "      <td>2.4839</td>\n",
       "      <td>C1</td>\n",
       "    </tr>\n",
       "    <tr>\n",
       "      <th>2</th>\n",
       "      <td>student</td>\n",
       "      <td>spend&lt;&lt;saving</td>\n",
       "      <td>28.0</td>\n",
       "      <td>60.0</td>\n",
       "      <td>15.4600</td>\n",
       "      <td>1.1885</td>\n",
       "      <td>C1</td>\n",
       "    </tr>\n",
       "    <tr>\n",
       "      <th>3</th>\n",
       "      <td>engineer</td>\n",
       "      <td>spend&gt;saving</td>\n",
       "      <td>15.0</td>\n",
       "      <td>41.0</td>\n",
       "      <td>21.2600</td>\n",
       "      <td>1.4379</td>\n",
       "      <td>C1</td>\n",
       "    </tr>\n",
       "    <tr>\n",
       "      <th>4</th>\n",
       "      <td>librarian</td>\n",
       "      <td>spend&lt;saving</td>\n",
       "      <td>2.0</td>\n",
       "      <td>9.0</td>\n",
       "      <td>19.7207</td>\n",
       "      <td>0.6913</td>\n",
       "      <td>C1</td>\n",
       "    </tr>\n",
       "  </tbody>\n",
       "</table>\n",
       "</div>"
      ],
      "text/plain": [
       "        Type      LifeStyle  Vacation  eCredit   salary  property label\n",
       "0    student   spend<saving      12.0     19.0  14.7900    3.7697    C1\n",
       "1    student  spend>>saving      29.0     10.0  16.1900    2.4839    C1\n",
       "2    student  spend<<saving      28.0     60.0  15.4600    1.1885    C1\n",
       "3   engineer   spend>saving      15.0     41.0  21.2600    1.4379    C1\n",
       "4  librarian   spend<saving       2.0      9.0  19.7207    0.6913    C1"
      ]
     },
     "execution_count": 16,
     "metadata": {},
     "output_type": "execute_result"
    }
   ],
   "source": [
    "# Reading the testProdSelection.arff dataset\n",
    "\n",
    "datatest = arff.loadarff(\"testProdSelection.arff\")\n",
    "dtest = pd.DataFrame(datatest[0])\n",
    "str_df = dtest.select_dtypes([np.object])\n",
    "str_df = str_df.stack().str.decode('utf-8').unstack()\n",
    "for i in str_df:\n",
    "    dtest[i] = str_df[i]\n",
    "dtest.head()"
   ]
  },
  {
   "cell_type": "code",
   "execution_count": 17,
   "metadata": {},
   "outputs": [],
   "source": [
    "df_test = dtest"
   ]
  },
  {
   "cell_type": "code",
   "execution_count": 18,
   "metadata": {},
   "outputs": [],
   "source": [
    "# Finding the max values of attributes in new dataset\n",
    "\n",
    "\n",
    "minValues2 = [df_test['Vacation'].min(),df_test.eCredit.min(),df_test.salary.min(),df_test.property.min()]\n",
    "maxValues2 = [df_test.Vacation.max(),df_test.eCredit.max(),df_test.salary.max(),df_test.property.max()]"
   ]
  },
  {
   "cell_type": "code",
   "execution_count": 19,
   "metadata": {},
   "outputs": [],
   "source": [
    "# Normalizing the new dataset\n",
    "\n",
    "df_test.eCredit=dtest['eCredit'].apply(lambda x : (x-minValues2[1])/(maxValues2[1]-minValues2[1]))\n",
    "\n",
    "df_test.salary=dtest['salary'].apply(lambda x : (x-minValues2[2])/(maxValues2[2]-minValues2[2]))\n",
    "\n",
    "df_test.Vacation=dtest['Vacation'].apply(lambda x : (x-minValues2[0])/(maxValues2[0]-minValues2[0]))\n",
    "\n",
    "df_test.property=dtest['property'].apply(lambda x : (x-minValues2[3])/(maxValues2[3]-minValues2[3]))"
   ]
  },
  {
   "cell_type": "code",
   "execution_count": 20,
   "metadata": {},
   "outputs": [
    {
     "data": {
      "text/plain": [
       "(21, 7)"
      ]
     },
     "execution_count": 20,
     "metadata": {},
     "output_type": "execute_result"
    }
   ],
   "source": [
    "# Finding the size of new test dataset\n",
    "\n",
    "x_test = df_test.values\n",
    "x_test.shape"
   ]
  },
  {
   "cell_type": "code",
   "execution_count": 21,
   "metadata": {},
   "outputs": [],
   "source": [
    "# Splitting the new dataset into x_test and y_test\n",
    "\n",
    "x = dtrain.values\n",
    "X = x[:,[0,1,2,3,4]]\n",
    "Y=x[:,6]\n",
    "y_test = x_test[:,6]\n",
    "x_test = x_test[:,[0,1,2,3,4]]"
   ]
  },
  {
   "cell_type": "code",
   "execution_count": 22,
   "metadata": {},
   "outputs": [
    {
     "data": {
      "text/html": [
       "<div>\n",
       "<style scoped>\n",
       "    .dataframe tbody tr th:only-of-type {\n",
       "        vertical-align: middle;\n",
       "    }\n",
       "\n",
       "    .dataframe tbody tr th {\n",
       "        vertical-align: top;\n",
       "    }\n",
       "\n",
       "    .dataframe thead th {\n",
       "        text-align: right;\n",
       "    }\n",
       "</style>\n",
       "<table border=\"1\" class=\"dataframe\">\n",
       "  <thead>\n",
       "    <tr style=\"text-align: right;\">\n",
       "      <th></th>\n",
       "      <th>student</th>\n",
       "      <th>engineer</th>\n",
       "      <th>librarian</th>\n",
       "      <th>professor</th>\n",
       "      <th>doctor</th>\n",
       "    </tr>\n",
       "  </thead>\n",
       "  <tbody>\n",
       "    <tr>\n",
       "      <th>spend&lt;&lt;saving</th>\n",
       "      <td>1</td>\n",
       "      <td>0</td>\n",
       "      <td>0</td>\n",
       "      <td>0</td>\n",
       "      <td>NaN</td>\n",
       "    </tr>\n",
       "    <tr>\n",
       "      <th>spend&lt;saving</th>\n",
       "      <td>0</td>\n",
       "      <td>1</td>\n",
       "      <td>0</td>\n",
       "      <td>0</td>\n",
       "      <td>NaN</td>\n",
       "    </tr>\n",
       "    <tr>\n",
       "      <th>spend&gt;saving</th>\n",
       "      <td>0</td>\n",
       "      <td>0</td>\n",
       "      <td>1</td>\n",
       "      <td>0</td>\n",
       "      <td>NaN</td>\n",
       "    </tr>\n",
       "    <tr>\n",
       "      <th>spend&gt;&gt;saving</th>\n",
       "      <td>0</td>\n",
       "      <td>0</td>\n",
       "      <td>0</td>\n",
       "      <td>1</td>\n",
       "      <td>NaN</td>\n",
       "    </tr>\n",
       "  </tbody>\n",
       "</table>\n",
       "</div>"
      ],
      "text/plain": [
       "              student engineer librarian professor  doctor\n",
       "spend<<saving       1        0         0         0     NaN\n",
       "spend<saving        0        1         0         0     NaN\n",
       "spend>saving        0        0         1         0     NaN\n",
       "spend>>saving       0        0         0         1     NaN"
      ]
     },
     "execution_count": 22,
     "metadata": {},
     "output_type": "execute_result"
    }
   ],
   "source": [
    "# Creating the dummy variables and making the 'lifestyle' into categorical value\n",
    "\n",
    "customer_type=similarityMatrix[:5]\n",
    "lifeStyle = similarityMatrix[7:]\n",
    "lifeStyle"
   ]
  },
  {
   "cell_type": "code",
   "execution_count": 23,
   "metadata": {},
   "outputs": [
    {
     "data": {
      "text/html": [
       "<div>\n",
       "<style scoped>\n",
       "    .dataframe tbody tr th:only-of-type {\n",
       "        vertical-align: middle;\n",
       "    }\n",
       "\n",
       "    .dataframe tbody tr th {\n",
       "        vertical-align: top;\n",
       "    }\n",
       "\n",
       "    .dataframe thead th {\n",
       "        text-align: right;\n",
       "    }\n",
       "</style>\n",
       "<table border=\"1\" class=\"dataframe\">\n",
       "  <thead>\n",
       "    <tr style=\"text-align: right;\">\n",
       "      <th></th>\n",
       "      <th>student</th>\n",
       "      <th>engineer</th>\n",
       "      <th>librarian</th>\n",
       "      <th>professor</th>\n",
       "      <th>doctor</th>\n",
       "    </tr>\n",
       "  </thead>\n",
       "  <tbody>\n",
       "    <tr>\n",
       "      <th>student</th>\n",
       "      <td>1</td>\n",
       "      <td>0</td>\n",
       "      <td>0</td>\n",
       "      <td>0</td>\n",
       "      <td>0.0</td>\n",
       "    </tr>\n",
       "    <tr>\n",
       "      <th>engineer</th>\n",
       "      <td>0</td>\n",
       "      <td>1</td>\n",
       "      <td>0</td>\n",
       "      <td>0</td>\n",
       "      <td>0.0</td>\n",
       "    </tr>\n",
       "    <tr>\n",
       "      <th>librarian</th>\n",
       "      <td>0</td>\n",
       "      <td>0</td>\n",
       "      <td>1</td>\n",
       "      <td>0</td>\n",
       "      <td>0.0</td>\n",
       "    </tr>\n",
       "    <tr>\n",
       "      <th>professor</th>\n",
       "      <td>0</td>\n",
       "      <td>0</td>\n",
       "      <td>0</td>\n",
       "      <td>1</td>\n",
       "      <td>0.0</td>\n",
       "    </tr>\n",
       "    <tr>\n",
       "      <th>doctor</th>\n",
       "      <td>0</td>\n",
       "      <td>0</td>\n",
       "      <td>0</td>\n",
       "      <td>0</td>\n",
       "      <td>1.0</td>\n",
       "    </tr>\n",
       "  </tbody>\n",
       "</table>\n",
       "</div>"
      ],
      "text/plain": [
       "          student engineer librarian professor  doctor\n",
       "student         1        0         0         0     0.0\n",
       "engineer        0        1         0         0     0.0\n",
       "librarian       0        0         1         0     0.0\n",
       "professor       0        0         0         1     0.0\n",
       "doctor          0        0         0         0     1.0"
      ]
     },
     "execution_count": 23,
     "metadata": {},
     "output_type": "execute_result"
    }
   ],
   "source": [
    "# Renaming columsn and dropping the ones with None \n",
    "\n",
    "lifeStyle.columns = [\"spend<<saving\",\"spend<saving\",\"spend>saving\",\"spend>>saving\",\"None\"]\n",
    "lifeStyle.drop(['None'],axis=1)\n",
    "customer_type"
   ]
  },
  {
   "cell_type": "code",
   "execution_count": 24,
   "metadata": {},
   "outputs": [],
   "source": [
    "# Fitting the model with k=5\n",
    "\n",
    "model = knn(neighbors=5,matrix1=customer_type,matrix2=lifeStyle,minV = minValues,maxV = maxValues)\n",
    "\n",
    "model.fit(X,Y)\n",
    "\n",
    "predTest = model.predict(x_test,y_test)"
   ]
  },
  {
   "cell_type": "code",
   "execution_count": 25,
   "metadata": {},
   "outputs": [
    {
     "data": {
      "text/html": [
       "<div>\n",
       "<style scoped>\n",
       "    .dataframe tbody tr th:only-of-type {\n",
       "        vertical-align: middle;\n",
       "    }\n",
       "\n",
       "    .dataframe tbody tr th {\n",
       "        vertical-align: top;\n",
       "    }\n",
       "\n",
       "    .dataframe thead th {\n",
       "        text-align: right;\n",
       "    }\n",
       "</style>\n",
       "<table border=\"1\" class=\"dataframe\">\n",
       "  <thead>\n",
       "    <tr style=\"text-align: right;\">\n",
       "      <th></th>\n",
       "      <th>Vacation</th>\n",
       "      <th>eCredit</th>\n",
       "      <th>salary</th>\n",
       "      <th>property</th>\n",
       "    </tr>\n",
       "  </thead>\n",
       "  <tbody>\n",
       "    <tr>\n",
       "      <th>Vacation</th>\n",
       "      <td>1.000000</td>\n",
       "      <td>-0.355139</td>\n",
       "      <td>0.110022</td>\n",
       "      <td>-0.296422</td>\n",
       "    </tr>\n",
       "    <tr>\n",
       "      <th>eCredit</th>\n",
       "      <td>-0.355139</td>\n",
       "      <td>1.000000</td>\n",
       "      <td>0.408194</td>\n",
       "      <td>0.830698</td>\n",
       "    </tr>\n",
       "    <tr>\n",
       "      <th>salary</th>\n",
       "      <td>0.110022</td>\n",
       "      <td>0.408194</td>\n",
       "      <td>1.000000</td>\n",
       "      <td>0.427750</td>\n",
       "    </tr>\n",
       "    <tr>\n",
       "      <th>property</th>\n",
       "      <td>-0.296422</td>\n",
       "      <td>0.830698</td>\n",
       "      <td>0.427750</td>\n",
       "      <td>1.000000</td>\n",
       "    </tr>\n",
       "  </tbody>\n",
       "</table>\n",
       "</div>"
      ],
      "text/plain": [
       "          Vacation   eCredit    salary  property\n",
       "Vacation  1.000000 -0.355139  0.110022 -0.296422\n",
       "eCredit  -0.355139  1.000000  0.408194  0.830698\n",
       "salary    0.110022  0.408194  1.000000  0.427750\n",
       "property -0.296422  0.830698  0.427750  1.000000"
      ]
     },
     "execution_count": 25,
     "metadata": {},
     "output_type": "execute_result"
    }
   ],
   "source": [
    "# Finding the Correlation\n",
    "\n",
    "dtrain.corr(method=\"pearson\")"
   ]
  },
  {
   "cell_type": "code",
   "execution_count": 26,
   "metadata": {},
   "outputs": [
    {
     "data": {
      "text/plain": [
       "['C2',\n",
       " 'C2',\n",
       " 'C2',\n",
       " 'C4',\n",
       " 'C5',\n",
       " 'C1',\n",
       " 'C2',\n",
       " 'C1',\n",
       " 'C3',\n",
       " 'C1',\n",
       " 'C3',\n",
       " 'C1',\n",
       " 'C1',\n",
       " 'C1',\n",
       " 'C4',\n",
       " 'C4',\n",
       " 'C4',\n",
       " 'C1',\n",
       " 'C2',\n",
       " 'C5',\n",
       " 'C2']"
      ]
     },
     "execution_count": 26,
     "metadata": {},
     "output_type": "execute_result"
    }
   ],
   "source": [
    "# Listing the predicted column\n",
    "\n",
    "pd.Series(predTest).tolist()"
   ]
  },
  {
   "cell_type": "code",
   "execution_count": 27,
   "metadata": {},
   "outputs": [
    {
     "data": {
      "text/plain": [
       "C1    33.33\n",
       "C2    28.57\n",
       "C4    19.05\n",
       "C3     9.52\n",
       "C5     9.52\n",
       "dtype: float64"
      ]
     },
     "execution_count": 27,
     "metadata": {},
     "output_type": "execute_result"
    }
   ],
   "source": [
    "# Finding the average of each attribute\n",
    "\n",
    "r=pd.Series(predTest).value_counts()\n",
    "round((r/len(predTest))*100,2)"
   ]
  },
  {
   "cell_type": "code",
   "execution_count": 28,
   "metadata": {},
   "outputs": [
    {
     "data": {
      "text/plain": [
       "0.3333333333333333"
      ]
     },
     "execution_count": 28,
     "metadata": {},
     "output_type": "execute_result"
    }
   ],
   "source": [
    "# Finding the accuracy for y_test, predTest\n",
    "\n",
    "from sklearn.metrics import accuracy_score\n",
    "accuracy_score(y_test,predTest)"
   ]
  },
  {
   "cell_type": "code",
   "execution_count": 29,
   "metadata": {},
   "outputs": [
    {
     "data": {
      "text/html": [
       "<div>\n",
       "<style scoped>\n",
       "    .dataframe tbody tr th:only-of-type {\n",
       "        vertical-align: middle;\n",
       "    }\n",
       "\n",
       "    .dataframe tbody tr th {\n",
       "        vertical-align: top;\n",
       "    }\n",
       "\n",
       "    .dataframe thead th {\n",
       "        text-align: right;\n",
       "    }\n",
       "</style>\n",
       "<table border=\"1\" class=\"dataframe\">\n",
       "  <thead>\n",
       "    <tr style=\"text-align: right;\">\n",
       "      <th></th>\n",
       "      <th>Type</th>\n",
       "      <th>LifeStyle</th>\n",
       "      <th>Vacation</th>\n",
       "      <th>eCredit</th>\n",
       "      <th>salary</th>\n",
       "      <th>property</th>\n",
       "      <th>label</th>\n",
       "    </tr>\n",
       "  </thead>\n",
       "  <tbody>\n",
       "    <tr>\n",
       "      <th>0</th>\n",
       "      <td>2</td>\n",
       "      <td>2</td>\n",
       "      <td>0.20</td>\n",
       "      <td>0.058824</td>\n",
       "      <td>0.104637</td>\n",
       "      <td>0.398926</td>\n",
       "      <td>1</td>\n",
       "    </tr>\n",
       "    <tr>\n",
       "      <th>1</th>\n",
       "      <td>2</td>\n",
       "      <td>4</td>\n",
       "      <td>0.54</td>\n",
       "      <td>0.021008</td>\n",
       "      <td>0.175059</td>\n",
       "      <td>0.243041</td>\n",
       "      <td>1</td>\n",
       "    </tr>\n",
       "    <tr>\n",
       "      <th>2</th>\n",
       "      <td>2</td>\n",
       "      <td>1</td>\n",
       "      <td>0.52</td>\n",
       "      <td>0.231092</td>\n",
       "      <td>0.138339</td>\n",
       "      <td>0.085992</td>\n",
       "      <td>1</td>\n",
       "    </tr>\n",
       "    <tr>\n",
       "      <th>3</th>\n",
       "      <td>3</td>\n",
       "      <td>3</td>\n",
       "      <td>0.26</td>\n",
       "      <td>0.151261</td>\n",
       "      <td>0.430086</td>\n",
       "      <td>0.116229</td>\n",
       "      <td>1</td>\n",
       "    </tr>\n",
       "    <tr>\n",
       "      <th>4</th>\n",
       "      <td>1</td>\n",
       "      <td>2</td>\n",
       "      <td>0.00</td>\n",
       "      <td>0.016807</td>\n",
       "      <td>0.352657</td>\n",
       "      <td>0.025714</td>\n",
       "      <td>1</td>\n",
       "    </tr>\n",
       "  </tbody>\n",
       "</table>\n",
       "</div>"
      ],
      "text/plain": [
       "   Type  LifeStyle  Vacation   eCredit    salary  property  label\n",
       "0     2          2      0.20  0.058824  0.104637  0.398926      1\n",
       "1     2          4      0.54  0.021008  0.175059  0.243041      1\n",
       "2     2          1      0.52  0.231092  0.138339  0.085992      1\n",
       "3     3          3      0.26  0.151261  0.430086  0.116229      1\n",
       "4     1          2      0.00  0.016807  0.352657  0.025714      1"
      ]
     },
     "execution_count": 29,
     "metadata": {},
     "output_type": "execute_result"
    }
   ],
   "source": [
    "# Converting the 'Type', 'LifeStyle', 'label' columns into catergorical using one-hot encoding\n",
    "\n",
    "dtest['Type'] = dtest.Type.map({'student':2,'engineer':3,'librarian':1,'professor':4,'doctor':5})\n",
    "dtest['LifeStyle'] = dtest.LifeStyle.map({'spend<<saving':1, 'spend<saving':2,'spend>saving':3, 'spend>>saving':4})\n",
    "dtest['label'] = dtest.label.map({'C1':1,'C2':2,'C3':3,'C4':4,'C5':5})\n",
    "dtest.head()"
   ]
  },
  {
   "cell_type": "code",
   "execution_count": 30,
   "metadata": {},
   "outputs": [
    {
     "data": {
      "text/plain": [
       "(21, 7)"
      ]
     },
     "execution_count": 30,
     "metadata": {},
     "output_type": "execute_result"
    }
   ],
   "source": [
    "# Normalizing the new table\n",
    "\n",
    "minV = dtest.Vacation.min()\n",
    "maxV = dtest.Vacation.max()\n",
    "dtest.Vacation = dtest.Vacation.apply(lambda x:(x-minV)/(maxV-minV))\n",
    "mineC = dtest.eCredit.min()\n",
    "maxeC = dtest.eCredit.max()\n",
    "dtest.eCredit = dtest.eCredit.apply(lambda x:(x-mineC)/(maxeC-mineC))\n",
    "minsalary = dtest.salary.min()\n",
    "maxsalary = dtest.salary.max()\n",
    "dtest.salary = dtest.salary.apply(lambda x:(x-minsalary)/(maxsalary-minsalary))\n",
    "minp = dtest.property.min()\n",
    "maxp = dtest.property.max()\n",
    "dtest.property = dtest.property.apply(lambda x:(x-minp)/(maxp-minp))\n",
    "dtest.shape"
   ]
  },
  {
   "cell_type": "code",
   "execution_count": 34,
   "metadata": {},
   "outputs": [
    {
     "name": "stdout",
     "output_type": "stream",
     "text": [
      "[(145, 0), (147, 0), (0, 1), (1, 1), (2, 1), (3, 1), (4, 1), (5, 1), (6, 1), (7, 1), (8, 1), (14, 1), (15, 1), (16, 1), (17, 1), (18, 1), (19, 1), (20, 1), (21, 1), (22, 1), (23, 1), (24, 1), (25, 1), (30, 1), (31, 1), (32, 1), (33, 1), (34, 1), (35, 1), (36, 1), (37, 1), (38, 1), (39, 1), (40, 1), (41, 1), (42, 1), (43, 1), (44, 1), (45, 1), (46, 1), (47, 1), (48, 1), (49, 1), (62, 1), (63, 1), (64, 1), (65, 1), (66, 1), (67, 1), (68, 1), (69, 1), (70, 1), (71, 1), (72, 1), (73, 1), (74, 1), (113, 1), (114, 1), (115, 1), (116, 1), (117, 1), (119, 1), (129, 1), (131, 1), (133, 1), (134, 1), (135, 1), (136, 1), (137, 1), (139, 1), (141, 1), (143, 1), (144, 1), (146, 1), (149, 1), (168, 1), (169, 1), (170, 1), (171, 1), (172, 1), (173, 1), (174, 1), (175, 1), (176, 1), (9, 2), (10, 2), (11, 2), (12, 2), (13, 2), (26, 2), (27, 2), (28, 2), (29, 2), (50, 2), (51, 2), (52, 2), (53, 2), (54, 2), (55, 2), (56, 2), (57, 2), (58, 2), (59, 2), (60, 2), (61, 2), (112, 2), (118, 2), (120, 2), (121, 2), (122, 2), (123, 2), (124, 2), (125, 2), (126, 2), (127, 2), (128, 2), (130, 2), (132, 2), (138, 2), (140, 2), (142, 2), (148, 2), (150, 2), (151, 2), (152, 2), (153, 2), (154, 2), (155, 2), (156, 2), (157, 2), (158, 2), (159, 2), (160, 2), (161, 2), (162, 2), (163, 2), (167, 2), (177, 2), (178, 2), (179, 2), (180, 2), (181, 2), (182, 2), (183, 2), (184, 2), (185, 2), (75, 3), (76, 3), (77, 3), (78, 3), (79, 3), (80, 3), (81, 3), (82, 3), (83, 3), (84, 3), (85, 3), (86, 3), (87, 3), (88, 3), (89, 3), (90, 3), (91, 3), (92, 3), (93, 3), (94, 3), (95, 3), (96, 3), (97, 3), (98, 3), (99, 3), (100, 3), (101, 3), (102, 3), (103, 3), (104, 3), (105, 3), (106, 3), (107, 3), (108, 3), (109, 3), (110, 3), (111, 3), (164, 3), (165, 3), (166, 3)]\n",
      "[(1, 5), (0, 2)]\n",
      "**********************\n",
      "[(26, 0), (27, 0), (28, 0), (29, 0), (138, 0), (140, 0), (142, 0), (148, 0), (177, 0), (178, 0), (179, 0), (180, 0), (181, 0), (182, 0), (183, 0), (184, 0), (185, 0), (0, 1), (1, 1), (2, 1), (3, 1), (4, 1), (5, 1), (9, 1), (10, 1), (11, 1), (12, 1), (13, 1), (17, 1), (18, 1), (19, 1), (20, 1), (21, 1), (22, 1), (23, 1), (24, 1), (25, 1), (36, 1), (37, 1), (38, 1), (39, 1), (40, 1), (48, 1), (49, 1), (68, 1), (69, 1), (70, 1), (71, 1), (72, 1), (73, 1), (74, 1), (112, 1), (114, 1), (116, 1), (118, 1), (130, 1), (132, 1), (134, 1), (136, 1), (144, 1), (146, 1), (168, 1), (169, 1), (170, 1), (171, 1), (172, 1), (173, 1), (174, 1), (175, 1), (176, 1), (6, 2), (7, 2), (8, 2), (41, 2), (42, 2), (43, 2), (44, 2), (45, 2), (46, 2), (47, 2), (50, 2), (51, 2), (52, 2), (53, 2), (54, 2), (55, 2), (56, 2), (57, 2), (58, 2), (59, 2), (60, 2), (61, 2), (62, 2), (63, 2), (64, 2), (65, 2), (66, 2), (67, 2), (115, 2), (117, 2), (120, 2), (122, 2), (124, 2), (125, 2), (126, 2), (127, 2), (128, 2), (135, 2), (137, 2), (145, 2), (147, 2), (150, 2), (151, 2), (152, 2), (153, 2), (154, 2), (155, 2), (156, 2), (157, 2), (158, 2), (159, 2), (160, 2), (161, 2), (162, 2), (163, 2), (164, 2), (165, 2), (166, 2), (167, 2), (14, 3), (15, 3), (16, 3), (30, 3), (31, 3), (32, 3), (33, 3), (34, 3), (35, 3), (75, 3), (76, 3), (77, 3), (78, 3), (79, 3), (80, 3), (81, 3), (82, 3), (83, 3), (84, 3), (85, 3), (86, 3), (87, 3), (88, 3), (89, 3), (90, 3), (91, 3), (92, 3), (93, 3), (94, 3), (95, 3), (96, 3), (97, 3), (98, 3), (99, 3), (100, 3), (101, 3), (102, 3), (103, 3), (104, 3), (105, 3), (106, 3), (107, 3), (108, 3), (109, 3), (110, 3), (111, 3), (113, 3), (119, 3), (121, 3), (123, 3), (129, 3), (131, 3), (133, 3), (139, 3), (141, 3), (143, 3), (149, 3)]\n",
      "[(0, 7)]\n",
      "**********************\n",
      "[(30, 0), (31, 0), (32, 0), (33, 0), (34, 0), (35, 0), (139, 0), (141, 0), (143, 0), (149, 0), (6, 1), (7, 1), (8, 1), (14, 1), (15, 1), (16, 1), (41, 1), (42, 1), (43, 1), (44, 1), (45, 1), (46, 1), (47, 1), (62, 1), (63, 1), (64, 1), (65, 1), (66, 1), (67, 1), (113, 1), (115, 1), (117, 1), (119, 1), (129, 1), (131, 1), (133, 1), (135, 1), (137, 1), (145, 1), (147, 1), (0, 2), (1, 2), (2, 2), (3, 2), (4, 2), (5, 2), (17, 2), (18, 2), (19, 2), (20, 2), (21, 2), (22, 2), (23, 2), (24, 2), (25, 2), (36, 2), (37, 2), (38, 2), (39, 2), (40, 2), (48, 2), (49, 2), (50, 2), (51, 2), (52, 2), (53, 2), (54, 2), (55, 2), (56, 2), (57, 2), (58, 2), (59, 2), (60, 2), (61, 2), (68, 2), (69, 2), (70, 2), (71, 2), (72, 2), (73, 2), (74, 2), (114, 2), (116, 2), (121, 2), (123, 2), (124, 2), (125, 2), (126, 2), (127, 2), (134, 2), (136, 2), (144, 2), (146, 2), (150, 2), (151, 2), (152, 2), (153, 2), (154, 2), (155, 2), (156, 2), (157, 2), (158, 2), (168, 2), (169, 2), (170, 2), (171, 2), (172, 2), (173, 2), (174, 2), (175, 2), (176, 2), (9, 3), (10, 3), (11, 3), (12, 3), (13, 3), (26, 3), (27, 3), (28, 3), (29, 3), (75, 3), (76, 3), (77, 3), (78, 3), (79, 3), (80, 3), (81, 3), (82, 3), (83, 3), (84, 3), (85, 3), (86, 3), (87, 3), (88, 3), (89, 3), (90, 3), (91, 3), (92, 3), (93, 3), (94, 3), (95, 3), (96, 3), (97, 3), (98, 3), (99, 3), (100, 3), (101, 3), (102, 3), (103, 3), (104, 3), (105, 3), (106, 3), (107, 3), (108, 3), (109, 3), (110, 3), (111, 3), (112, 3), (118, 3), (120, 3), (122, 3), (128, 3), (130, 3), (132, 3), (138, 3), (140, 3), (142, 3), (148, 3), (159, 3), (160, 3), (161, 3), (162, 3), (163, 3), (164, 3), (165, 3), (166, 3), (167, 3), (177, 3), (178, 3), (179, 3), (180, 3), (181, 3), (182, 3), (183, 3), (184, 3), (185, 3)]\n",
      "[(0, 7)]\n",
      "**********************\n",
      "[(36, 0), (37, 0), (38, 0), (39, 0), (40, 0), (48, 0), (49, 0), (134, 0), (136, 0), (17, 1), (18, 1), (19, 1), (20, 1), (21, 1), (22, 1), (23, 1), (24, 1), (25, 1), (26, 1), (27, 1), (28, 1), (29, 1), (41, 1), (42, 1), (43, 1), (44, 1), (45, 1), (46, 1), (47, 1), (50, 1), (51, 1), (52, 1), (53, 1), (54, 1), (55, 1), (56, 1), (57, 1), (58, 1), (59, 1), (60, 1), (61, 1), (120, 1), (122, 1), (124, 1), (125, 1), (126, 1), (127, 1), (128, 1), (130, 1), (132, 1), (135, 1), (137, 1), (138, 1), (140, 1), (142, 1), (144, 1), (145, 1), (146, 1), (147, 1), (148, 1), (150, 1), (151, 1), (152, 1), (153, 1), (154, 1), (155, 1), (156, 1), (157, 1), (158, 1), (159, 1), (160, 1), (161, 1), (162, 1), (163, 1), (164, 1), (165, 1), (166, 1), (167, 1), (168, 1), (169, 1), (170, 1), (171, 1), (172, 1), (173, 1), (174, 1), (175, 1), (176, 1), (177, 1), (178, 1), (179, 1), (180, 1), (181, 1), (182, 1), (183, 1), (184, 1), (185, 1), (0, 2), (1, 2), (2, 2), (3, 2), (4, 2), (5, 2), (6, 2), (7, 2), (8, 2), (9, 2), (10, 2), (11, 2), (12, 2), (13, 2), (14, 2), (15, 2), (16, 2), (30, 2), (31, 2), (32, 2), (33, 2), (34, 2), (35, 2), (62, 2), (63, 2), (64, 2), (65, 2), (66, 2), (67, 2), (68, 2), (69, 2), (70, 2), (71, 2), (72, 2), (73, 2), (74, 2), (75, 2), (76, 2), (77, 2), (78, 2), (79, 2), (80, 2), (81, 2), (82, 2), (83, 2), (84, 2), (85, 2), (86, 2), (87, 2), (88, 2), (89, 2), (90, 2), (91, 2), (92, 2), (93, 2), (94, 2), (95, 2), (96, 2), (97, 2), (98, 2), (99, 2), (100, 2), (101, 2), (102, 2), (103, 2), (104, 2), (105, 2), (106, 2), (107, 2), (108, 2), (109, 2), (110, 2), (111, 2), (112, 2), (113, 2), (114, 2), (115, 2), (116, 2), (117, 2), (118, 2), (119, 2), (121, 2), (123, 2), (129, 2), (131, 2), (133, 2), (139, 2), (141, 2), (143, 2), (149, 2)]\n",
      "[(0, 7)]\n",
      "**********************\n",
      "[(6, 0), (7, 0), (8, 0), (62, 0), (63, 0), (64, 0), (65, 0), (66, 0), (67, 0), (115, 0), (117, 0), (0, 1), (1, 1), (2, 1), (3, 1), (4, 1), (5, 1), (14, 1), (15, 1), (16, 1), (17, 1), (18, 1), (19, 1), (20, 1), (21, 1), (22, 1), (23, 1), (24, 1), (25, 1), (30, 1), (31, 1), (32, 1), (33, 1), (34, 1), (35, 1), (68, 1), (69, 1), (70, 1), (71, 1), (72, 1), (73, 1), (74, 1), (113, 1), (114, 1), (116, 1), (119, 1), (139, 1), (141, 1), (143, 1), (144, 1), (145, 1), (146, 1), (147, 1), (149, 1), (168, 1), (169, 1), (170, 1), (171, 1), (172, 1), (173, 1), (174, 1), (175, 1), (176, 1), (9, 2), (10, 2), (11, 2), (12, 2), (13, 2), (26, 2), (27, 2), (28, 2), (29, 2), (36, 2), (37, 2), (38, 2), (39, 2), (40, 2), (41, 2), (42, 2), (43, 2), (44, 2), (45, 2), (46, 2), (47, 2), (48, 2), (49, 2), (112, 2), (118, 2), (129, 2), (130, 2), (131, 2), (132, 2), (133, 2), (134, 2), (135, 2), (136, 2), (137, 2), (138, 2), (140, 2), (142, 2), (148, 2), (177, 2), (178, 2), (179, 2), (180, 2), (181, 2), (182, 2), (183, 2), (184, 2), (185, 2), (50, 3), (51, 3), (52, 3), (53, 3), (54, 3), (55, 3), (56, 3), (57, 3), (58, 3), (59, 3), (60, 3), (61, 3), (120, 3), (121, 3), (122, 3), (123, 3), (124, 3), (125, 3), (126, 3), (127, 3), (128, 3), (150, 3), (151, 3), (152, 3), (153, 3), (154, 3), (155, 3), (156, 3), (157, 3), (158, 3), (159, 3), (160, 3), (161, 3), (162, 3), (163, 3), (164, 3), (165, 3), (166, 3), (167, 3), (75, 4), (76, 4), (77, 4), (78, 4), (79, 4), (80, 4), (81, 4), (82, 4), (83, 4), (84, 4), (85, 4), (86, 4), (87, 4), (88, 4), (89, 4), (90, 4), (91, 4), (92, 4), (93, 4), (94, 4), (95, 4), (96, 4), (97, 4), (98, 4), (99, 4), (100, 4), (101, 4), (102, 4), (103, 4), (104, 4), (105, 4), (106, 4), (107, 4), (108, 4), (109, 4), (110, 4), (111, 4)]\n",
      "[(0, 7)]\n",
      "**********************\n",
      "[(0, 0), (1, 0), (2, 0), (3, 0), (4, 0), (5, 0), (68, 0), (69, 0), (70, 0), (71, 0), (72, 0), (73, 0), (74, 0), (114, 0), (116, 0), (6, 1), (7, 1), (8, 1), (9, 1), (10, 1), (11, 1), (12, 1), (13, 1), (17, 1), (18, 1), (19, 1), (20, 1), (21, 1), (22, 1), (23, 1), (24, 1), (25, 1), (26, 1), (27, 1), (28, 1), (29, 1), (62, 1), (63, 1), (64, 1), (65, 1), (66, 1), (67, 1), (112, 1), (115, 1), (117, 1), (118, 1), (138, 1), (140, 1), (142, 1), (144, 1), (145, 1), (146, 1), (147, 1), (148, 1), (168, 1), (169, 1), (170, 1), (171, 1), (172, 1), (173, 1), (174, 1), (175, 1), (176, 1), (177, 1), (178, 1), (179, 1), (180, 1), (181, 1), (182, 1), (183, 1), (184, 1), (185, 1), (14, 2), (15, 2), (16, 2), (30, 2), (31, 2), (32, 2), (33, 2), (34, 2), (35, 2), (36, 2), (37, 2), (38, 2), (39, 2), (40, 2), (41, 2), (42, 2), (43, 2), (44, 2), (45, 2), (46, 2), (47, 2), (48, 2), (49, 2), (113, 2), (119, 2), (129, 2), (130, 2), (131, 2), (132, 2), (133, 2), (134, 2), (135, 2), (136, 2), (137, 2), (139, 2), (141, 2), (143, 2), (149, 2), (50, 3), (51, 3), (52, 3), (53, 3), (54, 3), (55, 3), (56, 3), (57, 3), (58, 3), (59, 3), (60, 3), (61, 3), (120, 3), (121, 3), (122, 3), (123, 3), (124, 3), (125, 3), (126, 3), (127, 3), (128, 3), (150, 3), (151, 3), (152, 3), (153, 3), (154, 3), (155, 3), (156, 3), (157, 3), (158, 3), (159, 3), (160, 3), (161, 3), (162, 3), (163, 3), (164, 3), (165, 3), (166, 3), (167, 3), (75, 4), (76, 4), (77, 4), (78, 4), (79, 4), (80, 4), (81, 4), (82, 4), (83, 4), (84, 4), (85, 4), (86, 4), (87, 4), (88, 4), (89, 4), (90, 4), (91, 4), (92, 4), (93, 4), (94, 4), (95, 4), (96, 4), (97, 4), (98, 4), (99, 4), (100, 4), (101, 4), (102, 4), (103, 4), (104, 4), (105, 4), (106, 4), (107, 4), (108, 4), (109, 4), (110, 4), (111, 4)]\n",
      "[(0, 7)]\n",
      "**********************\n",
      "[(50, 0), (51, 0), (52, 0), (53, 0), (54, 0), (55, 0), (56, 0), (124, 0), (126, 0), (150, 0), (151, 0), (152, 0), (153, 0), (154, 0), (155, 0), (156, 0), (157, 0), (158, 0), (36, 1), (37, 1), (38, 1), (39, 1), (40, 1), (41, 1), (42, 1), (43, 1), (44, 1), (45, 1), (46, 1), (47, 1), (48, 1), (49, 1), (57, 1), (58, 1), (59, 1), (60, 1), (61, 1), (75, 1), (76, 1), (77, 1), (78, 1), (79, 1), (80, 1), (81, 1), (82, 1), (83, 1), (84, 1), (85, 1), (86, 1), (87, 1), (88, 1), (89, 1), (90, 1), (91, 1), (92, 1), (93, 1), (94, 1), (95, 1), (96, 1), (97, 1), (98, 1), (99, 1), (100, 1), (101, 1), (102, 1), (103, 1), (104, 1), (105, 1), (106, 1), (107, 1), (108, 1), (109, 1), (110, 1), (111, 1), (120, 1), (122, 1), (125, 1), (127, 1), (128, 1), (130, 1), (132, 1), (134, 1), (135, 1), (136, 1), (137, 1), (159, 1), (160, 1), (161, 1), (162, 1), (163, 1), (164, 1), (165, 1), (166, 1), (167, 1), (17, 2), (18, 2), (19, 2), (20, 2), (21, 2), (22, 2), (23, 2), (24, 2), (25, 2), (26, 2), (27, 2), (28, 2), (29, 2), (30, 2), (31, 2), (32, 2), (33, 2), (34, 2), (35, 2), (121, 2), (123, 2), (129, 2), (131, 2), (133, 2), (138, 2), (139, 2), (140, 2), (141, 2), (142, 2), (143, 2), (144, 2), (145, 2), (146, 2), (147, 2), (148, 2), (149, 2), (168, 2), (169, 2), (170, 2), (171, 2), (172, 2), (173, 2), (174, 2), (175, 2), (176, 2), (177, 2), (178, 2), (179, 2), (180, 2), (181, 2), (182, 2), (183, 2), (184, 2), (185, 2), (0, 3), (1, 3), (2, 3), (3, 3), (4, 3), (5, 3), (6, 3), (7, 3), (8, 3), (9, 3), (10, 3), (11, 3), (12, 3), (13, 3), (14, 3), (15, 3), (16, 3), (62, 3), (63, 3), (64, 3), (65, 3), (66, 3), (67, 3), (68, 3), (69, 3), (70, 3), (71, 3), (72, 3), (73, 3), (74, 3), (112, 3), (113, 3), (114, 3), (115, 3), (116, 3), (117, 3), (118, 3), (119, 3)]\n",
      "[(0, 7)]\n",
      "**********************\n",
      "[(57, 0), (58, 0), (59, 0), (60, 0), (61, 0), (125, 0), (127, 0), (36, 1), (37, 1), (38, 1), (39, 1), (40, 1), (41, 1), (42, 1), (43, 1), (44, 1), (45, 1), (46, 1), (47, 1), (48, 1), (49, 1), (50, 1), (51, 1), (52, 1), (53, 1), (54, 1), (55, 1), (56, 1), (75, 1), (76, 1), (77, 1), (78, 1), (79, 1), (80, 1), (81, 1), (82, 1), (83, 1), (84, 1), (85, 1), (86, 1), (87, 1), (89, 1), (90, 1), (91, 1), (92, 1), (93, 1), (94, 1), (95, 1), (96, 1), (97, 1), (98, 1), (99, 1), (100, 1), (101, 1), (102, 1), (103, 1), (104, 1), (105, 1), (106, 1), (107, 1), (108, 1), (109, 1), (110, 1), (111, 1), (121, 1), (123, 1), (124, 1), (126, 1), (129, 1), (131, 1), (133, 1), (134, 1), (135, 1), (136, 1), (137, 1), (150, 1), (151, 1), (152, 1), (153, 1), (154, 1), (155, 1), (156, 1), (157, 1), (158, 1), (17, 2), (18, 2), (19, 2), (20, 2), (21, 2), (22, 2), (23, 2), (24, 2), (25, 2), (26, 2), (27, 2), (28, 2), (29, 2), (30, 2), (31, 2), (32, 2), (33, 2), (34, 2), (35, 2), (88, 2), (120, 2), (122, 2), (128, 2), (130, 2), (132, 2), (138, 2), (139, 2), (140, 2), (141, 2), (142, 2), (143, 2), (144, 2), (145, 2), (146, 2), (147, 2), (148, 2), (149, 2), (159, 2), (160, 2), (161, 2), (162, 2), (163, 2), (164, 2), (165, 2), (166, 2), (167, 2), (168, 2), (169, 2), (170, 2), (171, 2), (172, 2), (173, 2), (174, 2), (175, 2), (176, 2), (177, 2), (178, 2), (179, 2), (180, 2), (181, 2), (182, 2), (183, 2), (184, 2), (185, 2), (0, 3), (1, 3), (2, 3), (3, 3), (4, 3), (5, 3), (6, 3), (7, 3), (8, 3), (9, 3), (10, 3), (11, 3), (12, 3), (13, 3), (14, 3), (15, 3), (16, 3), (62, 3), (63, 3), (64, 3), (65, 3), (66, 3), (67, 3), (68, 3), (69, 3), (70, 3), (71, 3), (72, 3), (73, 3), (74, 3), (112, 3), (113, 3), (114, 3), (115, 3), (116, 3), (117, 3), (118, 3), (119, 3)]\n",
      "[(0, 7)]\n",
      "**********************\n",
      "[(145, 0), (147, 0), (0, 1), (1, 1), (2, 1), (3, 1), (4, 1), (5, 1), (6, 1), (7, 1), (8, 1), (14, 1), (15, 1), (16, 1), (17, 1), (18, 1), (19, 1), (20, 1), (21, 1), (22, 1), (23, 1), (24, 1), (25, 1), (30, 1), (31, 1), (32, 1), (33, 1), (34, 1), (35, 1), (36, 1), (37, 1), (38, 1), (39, 1), (40, 1), (41, 1), (42, 1), (43, 1), (44, 1), (45, 1), (46, 1), (47, 1), (48, 1), (49, 1), (62, 1), (63, 1), (64, 1), (65, 1), (66, 1), (67, 1), (68, 1), (69, 1), (70, 1), (71, 1), (72, 1), (73, 1), (74, 1), (113, 1), (114, 1), (115, 1), (116, 1), (117, 1), (119, 1), (129, 1), (131, 1), (133, 1), (134, 1), (135, 1), (136, 1), (137, 1), (139, 1), (141, 1), (143, 1), (144, 1), (146, 1), (149, 1), (168, 1), (169, 1), (170, 1), (171, 1), (172, 1), (173, 1), (174, 1), (175, 1), (176, 1), (9, 2), (10, 2), (11, 2), (12, 2), (13, 2), (26, 2), (27, 2), (28, 2), (29, 2), (50, 2), (51, 2), (52, 2), (53, 2), (54, 2), (55, 2), (56, 2), (57, 2), (58, 2), (59, 2), (60, 2), (61, 2), (112, 2), (118, 2), (120, 2), (121, 2), (122, 2), (123, 2), (124, 2), (125, 2), (126, 2), (127, 2), (128, 2), (130, 2), (132, 2), (138, 2), (140, 2), (142, 2), (148, 2), (150, 2), (151, 2), (152, 2), (153, 2), (154, 2), (155, 2), (156, 2), (157, 2), (158, 2), (159, 2), (160, 2), (161, 2), (162, 2), (163, 2), (164, 2), (165, 2), (166, 2), (167, 2), (177, 2), (178, 2), (179, 2), (180, 2), (181, 2), (182, 2), (183, 2), (184, 2), (185, 2), (75, 3), (76, 3), (77, 3), (78, 3), (79, 3), (80, 3), (81, 3), (82, 3), (83, 3), (84, 3), (85, 3), (86, 3), (87, 3), (88, 3), (89, 3), (90, 3), (91, 3), (92, 3), (93, 3), (94, 3), (95, 3), (96, 3), (97, 3), (98, 3), (99, 3), (100, 3), (101, 3), (102, 3), (103, 3), (104, 3), (105, 3), (106, 3), (107, 3), (108, 3), (109, 3), (110, 3), (111, 3)]\n",
      "[(1, 5), (0, 2)]\n",
      "**********************\n",
      "[(17, 0), (18, 0), (19, 0), (20, 0), (21, 0), (22, 0), (23, 0), (24, 0), (25, 0), (144, 0), (146, 0), (168, 0), (169, 0), (170, 0), (171, 0), (172, 0), (173, 0), (174, 0), (175, 0), (176, 0), (0, 1), (1, 1), (2, 1), (3, 1), (4, 1), (5, 1), (6, 1), (7, 1), (8, 1), (9, 1), (10, 1), (11, 1), (12, 1), (13, 1), (26, 1), (27, 1), (28, 1), (29, 1), (36, 1), (37, 1), (38, 1), (39, 1), (40, 1), (41, 1), (42, 1), (43, 1), (44, 1), (45, 1), (46, 1), (47, 1), (48, 1), (49, 1), (62, 1), (63, 1), (64, 1), (65, 1), (66, 1), (67, 1), (68, 1), (69, 1), (70, 1), (71, 1), (72, 1), (73, 1), (74, 1), (112, 1), (114, 1), (115, 1), (116, 1), (117, 1), (118, 1), (130, 1), (132, 1), (134, 1), (135, 1), (136, 1), (137, 1), (138, 1), (140, 1), (142, 1), (145, 1), (147, 1), (148, 1), (177, 1), (178, 1), (179, 1), (180, 1), (181, 1), (182, 1), (183, 1), (184, 1), (185, 1), (14, 2), (15, 2), (16, 2), (30, 2), (31, 2), (32, 2), (33, 2), (34, 2), (35, 2), (50, 2), (51, 2), (52, 2), (53, 2), (54, 2), (55, 2), (56, 2), (57, 2), (58, 2), (59, 2), (60, 2), (61, 2), (113, 2), (119, 2), (120, 2), (121, 2), (122, 2), (123, 2), (124, 2), (125, 2), (126, 2), (127, 2), (128, 2), (129, 2), (131, 2), (133, 2), (139, 2), (141, 2), (143, 2), (149, 2), (150, 2), (151, 2), (152, 2), (153, 2), (154, 2), (155, 2), (156, 2), (157, 2), (158, 2), (159, 2), (160, 2), (161, 2), (162, 2), (163, 2), (164, 2), (165, 2), (166, 2), (167, 2), (75, 3), (76, 3), (77, 3), (78, 3), (79, 3), (80, 3), (81, 3), (82, 3), (83, 3), (84, 3), (85, 3), (86, 3), (87, 3), (88, 3), (89, 3), (90, 3), (91, 3), (92, 3), (93, 3), (94, 3), (95, 3), (96, 3), (97, 3), (98, 3), (99, 3), (100, 3), (101, 3), (102, 3), (103, 3), (104, 3), (105, 3), (106, 3), (107, 3), (108, 3), (109, 3), (110, 3), (111, 3)]\n",
      "[(0, 7)]\n",
      "**********************\n",
      "[(75, 0), (76, 0), (77, 0), (78, 0), (79, 0), (80, 0), (81, 0), (82, 0), (83, 0), (84, 0), (85, 0), (86, 0), (87, 0), (88, 0), (89, 0), (90, 0), (91, 0), (92, 0), (93, 0), (94, 0), (50, 1), (51, 1), (52, 1), (53, 1), (54, 1), (55, 1), (56, 1), (57, 1), (58, 1), (59, 1), (60, 1), (61, 1), (95, 1), (96, 1), (97, 1), (98, 1), (99, 1), (100, 1), (101, 1), (102, 1), (103, 1), (104, 1), (105, 1), (106, 1), (107, 1), (108, 1), (109, 1), (110, 1), (111, 1), (120, 1), (122, 1), (124, 1), (125, 1), (126, 1), (127, 1), (128, 1), (150, 1), (151, 1), (152, 1), (153, 1), (154, 1), (155, 1), (156, 1), (157, 1), (158, 1), (159, 1), (160, 1), (161, 1), (162, 1), (163, 1), (164, 1), (165, 1), (166, 1), (167, 1), (36, 2), (37, 2), (38, 2), (39, 2), (40, 2), (41, 2), (42, 2), (43, 2), (44, 2), (45, 2), (46, 2), (47, 2), (48, 2), (49, 2), (121, 2), (123, 2), (130, 2), (132, 2), (134, 2), (135, 2), (136, 2), (137, 2), (17, 3), (18, 3), (19, 3), (20, 3), (21, 3), (22, 3), (23, 3), (24, 3), (25, 3), (26, 3), (27, 3), (28, 3), (29, 3), (30, 3), (31, 3), (32, 3), (33, 3), (34, 3), (35, 3), (129, 3), (131, 3), (133, 3), (138, 3), (139, 3), (140, 3), (141, 3), (142, 3), (143, 3), (144, 3), (145, 3), (146, 3), (147, 3), (148, 3), (149, 3), (168, 3), (169, 3), (170, 3), (171, 3), (172, 3), (173, 3), (174, 3), (175, 3), (176, 3), (177, 3), (178, 3), (179, 3), (180, 3), (181, 3), (182, 3), (183, 3), (184, 3), (185, 3), (0, 4), (1, 4), (2, 4), (3, 4), (4, 4), (5, 4), (6, 4), (7, 4), (8, 4), (9, 4), (10, 4), (11, 4), (12, 4), (13, 4), (14, 4), (15, 4), (16, 4), (62, 4), (63, 4), (64, 4), (65, 4), (66, 4), (67, 4), (68, 4), (69, 4), (70, 4), (71, 4), (72, 4), (73, 4), (74, 4), (112, 4), (113, 4), (114, 4), (115, 4), (116, 4), (117, 4), (118, 4), (119, 4)]\n",
      "[(0, 7)]\n",
      "**********************\n",
      "[(95, 0), (96, 0), (97, 0), (98, 0), (99, 0), (100, 0), (101, 0), (102, 0), (50, 1), (52, 1), (53, 1), (55, 1), (56, 1), (57, 1), (58, 1), (59, 1), (60, 1), (61, 1), (75, 1), (76, 1), (77, 1), (78, 1), (79, 1), (80, 1), (81, 1), (82, 1), (83, 1), (84, 1), (85, 1), (86, 1), (87, 1), (88, 1), (89, 1), (90, 1), (91, 1), (92, 1), (93, 1), (94, 1), (103, 1), (104, 1), (105, 1), (106, 1), (107, 1), (108, 1), (109, 1), (110, 1), (111, 1), (125, 1), (126, 1), (127, 1), (36, 2), (37, 2), (38, 2), (39, 2), (40, 2), (41, 2), (42, 2), (43, 2), (44, 2), (45, 2), (46, 2), (47, 2), (48, 2), (49, 2), (51, 2), (54, 2), (120, 2), (121, 2), (122, 2), (123, 2), (124, 2), (128, 2), (129, 2), (131, 2), (133, 2), (134, 2), (135, 2), (136, 2), (137, 2), (150, 2), (151, 2), (152, 2), (153, 2), (154, 2), (155, 2), (156, 2), (157, 2), (158, 2), (159, 2), (160, 2), (161, 2), (162, 2), (163, 2), (164, 2), (165, 2), (166, 2), (167, 2), (17, 3), (18, 3), (19, 3), (20, 3), (21, 3), (22, 3), (23, 3), (24, 3), (25, 3), (26, 3), (27, 3), (28, 3), (29, 3), (30, 3), (31, 3), (32, 3), (33, 3), (34, 3), (35, 3), (130, 3), (132, 3), (138, 3), (139, 3), (140, 3), (141, 3), (142, 3), (143, 3), (144, 3), (145, 3), (146, 3), (147, 3), (148, 3), (149, 3), (168, 3), (169, 3), (170, 3), (171, 3), (172, 3), (173, 3), (174, 3), (175, 3), (176, 3), (177, 3), (178, 3), (179, 3), (180, 3), (181, 3), (182, 3), (183, 3), (184, 3), (185, 3), (0, 4), (1, 4), (2, 4), (3, 4), (4, 4), (5, 4), (6, 4), (7, 4), (8, 4), (9, 4), (10, 4), (11, 4), (12, 4), (13, 4), (14, 4), (15, 4), (16, 4), (62, 4), (63, 4), (64, 4), (65, 4), (66, 4), (67, 4), (68, 4), (69, 4), (70, 4), (71, 4), (72, 4), (73, 4), (74, 4), (112, 4), (113, 4), (114, 4), (115, 4), (116, 4), (117, 4), (118, 4), (119, 4)]\n",
      "[(0, 7)]\n",
      "**********************\n",
      "[(50, 0), (51, 0), (52, 0), (53, 0), (54, 0), (55, 0), (56, 0), (124, 0), (126, 0), (150, 0), (151, 0), (152, 0), (153, 0), (154, 0), (155, 0), (156, 0), (157, 0), (158, 0), (36, 1), (37, 1), (38, 1), (39, 1), (40, 1), (41, 1), (42, 1), (43, 1), (44, 1), (45, 1), (46, 1), (47, 1), (48, 1), (49, 1), (57, 1), (58, 1), (59, 1), (60, 1), (61, 1), (75, 1), (76, 1), (77, 1), (78, 1), (79, 1), (80, 1), (81, 1), (82, 1), (83, 1), (84, 1), (85, 1), (86, 1), (87, 1), (88, 1), (89, 1), (90, 1), (91, 1), (92, 1), (93, 1), (94, 1), (95, 1), (96, 1), (97, 1), (98, 1), (99, 1), (100, 1), (101, 1), (102, 1), (103, 1), (104, 1), (105, 1), (106, 1), (107, 1), (108, 1), (109, 1), (110, 1), (111, 1), (120, 1), (122, 1), (125, 1), (127, 1), (128, 1), (130, 1), (132, 1), (134, 1), (135, 1), (136, 1), (137, 1), (159, 1), (160, 1), (161, 1), (162, 1), (163, 1), (164, 1), (165, 1), (166, 1), (167, 1), (17, 2), (18, 2), (19, 2), (20, 2), (21, 2), (22, 2), (23, 2), (24, 2), (25, 2), (26, 2), (27, 2), (28, 2), (29, 2), (30, 2), (31, 2), (32, 2), (33, 2), (34, 2), (35, 2), (121, 2), (123, 2), (129, 2), (131, 2), (133, 2), (138, 2), (139, 2), (140, 2), (141, 2), (142, 2), (143, 2), (144, 2), (145, 2), (146, 2), (147, 2), (148, 2), (149, 2), (168, 2), (169, 2), (170, 2), (171, 2), (172, 2), (173, 2), (174, 2), (175, 2), (176, 2), (177, 2), (178, 2), (179, 2), (180, 2), (181, 2), (182, 2), (183, 2), (184, 2), (185, 2), (0, 3), (1, 3), (2, 3), (3, 3), (4, 3), (5, 3), (6, 3), (7, 3), (8, 3), (9, 3), (10, 3), (11, 3), (12, 3), (13, 3), (14, 3), (15, 3), (16, 3), (62, 3), (63, 3), (64, 3), (65, 3), (66, 3), (67, 3), (68, 3), (69, 3), (70, 3), (71, 3), (72, 3), (73, 3), (74, 3), (112, 3), (113, 3), (114, 3), (115, 3), (116, 3), (117, 3), (118, 3), (119, 3)]\n",
      "[(0, 7)]\n",
      "**********************\n",
      "[(75, 0), (76, 0), (77, 0), (79, 0), (80, 0), (81, 0), (82, 0), (83, 0), (84, 0), (85, 0), (86, 0), (87, 0), (89, 0), (90, 0), (91, 0), (92, 0), (93, 0), (94, 0), (105, 0), (106, 0), (107, 0), (110, 0), (111, 0), (50, 1), (51, 1), (52, 1), (53, 1), (54, 1), (55, 1), (56, 1), (57, 1), (58, 1), (59, 1), (60, 1), (61, 1), (78, 1), (88, 1), (95, 1), (96, 1), (97, 1), (98, 1), (99, 1), (100, 1), (101, 1), (102, 1), (103, 1), (104, 1), (108, 1), (109, 1), (120, 1), (122, 1), (124, 1), (125, 1), (126, 1), (127, 1), (128, 1), (150, 1), (151, 1), (152, 1), (153, 1), (154, 1), (155, 1), (156, 1), (157, 1), (158, 1), (159, 1), (160, 1), (161, 1), (162, 1), (163, 1), (164, 1), (165, 1), (166, 1), (167, 1), (36, 2), (37, 2), (38, 2), (39, 2), (40, 2), (41, 2), (42, 2), (43, 2), (44, 2), (45, 2), (46, 2), (47, 2), (48, 2), (49, 2), (121, 2), (123, 2), (129, 2), (130, 2), (131, 2), (132, 2), (133, 2), (134, 2), (135, 2), (136, 2), (137, 2), (17, 3), (18, 3), (19, 3), (20, 3), (21, 3), (22, 3), (23, 3), (24, 3), (25, 3), (26, 3), (27, 3), (28, 3), (29, 3), (30, 3), (31, 3), (32, 3), (33, 3), (34, 3), (35, 3), (138, 3), (139, 3), (140, 3), (141, 3), (142, 3), (143, 3), (144, 3), (145, 3), (146, 3), (147, 3), (148, 3), (149, 3), (168, 3), (169, 3), (170, 3), (171, 3), (172, 3), (173, 3), (174, 3), (175, 3), (176, 3), (177, 3), (178, 3), (179, 3), (180, 3), (181, 3), (182, 3), (183, 3), (184, 3), (185, 3), (0, 4), (1, 4), (2, 4), (3, 4), (4, 4), (5, 4), (6, 4), (7, 4), (8, 4), (9, 4), (10, 4), (11, 4), (12, 4), (13, 4), (14, 4), (15, 4), (16, 4), (62, 4), (63, 4), (64, 4), (65, 4), (66, 4), (67, 4), (68, 4), (69, 4), (70, 4), (71, 4), (72, 4), (73, 4), (74, 4), (112, 4), (113, 4), (114, 4), (115, 4), (116, 4), (117, 4), (118, 4), (119, 4)]\n",
      "[(0, 7)]\n",
      "**********************\n",
      "[(26, 0), (27, 0), (28, 0), (29, 0), (138, 0), (140, 0), (142, 0), (148, 0), (177, 0), (178, 0), (179, 0), (180, 0), (181, 0), (182, 0), (183, 0), (184, 0), (185, 0), (0, 1), (1, 1), (2, 1), (3, 1), (4, 1), (5, 1), (9, 1), (10, 1), (11, 1), (12, 1), (13, 1), (17, 1), (18, 1), (19, 1), (20, 1), (21, 1), (22, 1), (23, 1), (24, 1), (25, 1), (36, 1), (37, 1), (38, 1), (39, 1), (40, 1), (48, 1), (49, 1), (68, 1), (69, 1), (70, 1), (71, 1), (72, 1), (73, 1), (74, 1), (112, 1), (114, 1), (116, 1), (118, 1), (130, 1), (132, 1), (134, 1), (136, 1), (144, 1), (146, 1), (168, 1), (169, 1), (170, 1), (171, 1), (172, 1), (173, 1), (174, 1), (175, 1), (176, 1), (6, 2), (7, 2), (8, 2), (41, 2), (42, 2), (43, 2), (44, 2), (45, 2), (46, 2), (47, 2), (50, 2), (51, 2), (52, 2), (53, 2), (54, 2), (55, 2), (56, 2), (57, 2), (58, 2), (59, 2), (60, 2), (61, 2), (62, 2), (63, 2), (64, 2), (65, 2), (66, 2), (67, 2), (115, 2), (117, 2), (120, 2), (122, 2), (124, 2), (125, 2), (126, 2), (127, 2), (128, 2), (135, 2), (137, 2), (145, 2), (147, 2), (150, 2), (151, 2), (152, 2), (153, 2), (154, 2), (155, 2), (156, 2), (157, 2), (158, 2), (159, 2), (160, 2), (161, 2), (162, 2), (163, 2), (164, 2), (165, 2), (166, 2), (167, 2), (14, 3), (15, 3), (16, 3), (30, 3), (31, 3), (32, 3), (33, 3), (34, 3), (35, 3), (75, 3), (76, 3), (77, 3), (78, 3), (79, 3), (80, 3), (81, 3), (82, 3), (83, 3), (84, 3), (85, 3), (86, 3), (87, 3), (88, 3), (89, 3), (90, 3), (91, 3), (92, 3), (93, 3), (94, 3), (95, 3), (96, 3), (97, 3), (98, 3), (99, 3), (100, 3), (101, 3), (102, 3), (103, 3), (104, 3), (105, 3), (106, 3), (107, 3), (108, 3), (109, 3), (110, 3), (111, 3), (113, 3), (119, 3), (121, 3), (123, 3), (129, 3), (131, 3), (133, 3), (139, 3), (141, 3), (143, 3), (149, 3)]\n",
      "[(0, 7)]\n",
      "**********************\n",
      "[(26, 0), (27, 0), (28, 0), (29, 0), (138, 0), (140, 0), (142, 0), (148, 0), (177, 0), (178, 0), (179, 0), (180, 0), (181, 0), (182, 0), (183, 0), (184, 0), (185, 0), (0, 1), (1, 1), (2, 1), (3, 1), (4, 1), (5, 1), (9, 1), (10, 1), (11, 1), (12, 1), (13, 1), (17, 1), (18, 1), (19, 1), (20, 1), (21, 1), (22, 1), (23, 1), (24, 1), (25, 1), (36, 1), (37, 1), (38, 1), (39, 1), (40, 1), (48, 1), (49, 1), (68, 1), (69, 1), (70, 1), (71, 1), (72, 1), (73, 1), (74, 1), (112, 1), (114, 1), (116, 1), (118, 1), (130, 1), (132, 1), (134, 1), (136, 1), (144, 1), (146, 1), (168, 1), (169, 1), (170, 1), (171, 1), (172, 1), (173, 1), (174, 1), (175, 1), (176, 1), (6, 2), (7, 2), (8, 2), (41, 2), (42, 2), (43, 2), (44, 2), (45, 2), (46, 2), (47, 2), (50, 2), (51, 2), (52, 2), (53, 2), (54, 2), (55, 2), (56, 2), (57, 2), (58, 2), (59, 2), (60, 2), (61, 2), (62, 2), (63, 2), (64, 2), (65, 2), (66, 2), (67, 2), (115, 2), (117, 2), (120, 2), (122, 2), (124, 2), (125, 2), (126, 2), (127, 2), (128, 2), (135, 2), (137, 2), (145, 2), (147, 2), (150, 2), (151, 2), (152, 2), (153, 2), (154, 2), (155, 2), (156, 2), (157, 2), (158, 2), (159, 2), (160, 2), (161, 2), (162, 2), (163, 2), (164, 2), (165, 2), (166, 2), (167, 2), (14, 3), (15, 3), (16, 3), (30, 3), (31, 3), (32, 3), (33, 3), (34, 3), (35, 3), (75, 3), (76, 3), (77, 3), (78, 3), (79, 3), (80, 3), (81, 3), (82, 3), (83, 3), (84, 3), (85, 3), (86, 3), (87, 3), (88, 3), (89, 3), (90, 3), (91, 3), (92, 3), (93, 3), (94, 3), (95, 3), (96, 3), (97, 3), (98, 3), (99, 3), (100, 3), (101, 3), (102, 3), (103, 3), (104, 3), (105, 3), (106, 3), (107, 3), (108, 3), (109, 3), (110, 3), (111, 3), (113, 3), (119, 3), (121, 3), (123, 3), (129, 3), (131, 3), (133, 3), (139, 3), (141, 3), (143, 3), (149, 3)]\n",
      "[(0, 7)]\n",
      "**********************\n",
      "[(120, 0), (122, 0), (128, 0), (159, 0), (160, 0), (161, 0), (162, 0), (163, 0), (164, 0), (165, 0), (166, 0), (167, 0), (36, 1), (37, 1), (38, 1), (39, 1), (40, 1), (48, 1), (49, 1), (50, 1), (51, 1), (52, 1), (53, 1), (54, 1), (55, 1), (56, 1), (75, 1), (76, 1), (77, 1), (78, 1), (79, 1), (80, 1), (81, 1), (82, 1), (83, 1), (84, 1), (85, 1), (86, 1), (87, 1), (88, 1), (89, 1), (90, 1), (91, 1), (92, 1), (93, 1), (94, 1), (105, 1), (106, 1), (107, 1), (110, 1), (111, 1), (124, 1), (126, 1), (130, 1), (132, 1), (134, 1), (136, 1), (150, 1), (151, 1), (152, 1), (153, 1), (154, 1), (155, 1), (156, 1), (157, 1), (158, 1), (17, 2), (18, 2), (19, 2), (20, 2), (21, 2), (22, 2), (23, 2), (24, 2), (25, 2), (26, 2), (27, 2), (28, 2), (29, 2), (41, 2), (42, 2), (43, 2), (44, 2), (45, 2), (46, 2), (47, 2), (57, 2), (58, 2), (59, 2), (60, 2), (61, 2), (95, 2), (96, 2), (97, 2), (98, 2), (99, 2), (100, 2), (101, 2), (102, 2), (103, 2), (104, 2), (108, 2), (109, 2), (125, 2), (127, 2), (135, 2), (137, 2), (138, 2), (140, 2), (142, 2), (144, 2), (145, 2), (146, 2), (147, 2), (148, 2), (168, 2), (169, 2), (170, 2), (171, 2), (172, 2), (173, 2), (174, 2), (175, 2), (176, 2), (177, 2), (178, 2), (179, 2), (180, 2), (181, 2), (182, 2), (183, 2), (184, 2), (185, 2), (0, 3), (1, 3), (2, 3), (3, 3), (4, 3), (5, 3), (6, 3), (7, 3), (8, 3), (9, 3), (10, 3), (11, 3), (12, 3), (13, 3), (30, 3), (31, 3), (32, 3), (33, 3), (34, 3), (35, 3), (62, 3), (63, 3), (64, 3), (65, 3), (66, 3), (67, 3), (68, 3), (69, 3), (70, 3), (71, 3), (72, 3), (73, 3), (74, 3), (112, 3), (114, 3), (115, 3), (116, 3), (117, 3), (118, 3), (121, 3), (123, 3), (129, 3), (131, 3), (133, 3), (139, 3), (141, 3), (143, 3), (149, 3), (14, 4), (15, 4), (16, 4), (113, 4), (119, 4)]\n",
      "[(0, 7)]\n",
      "**********************\n",
      "[(9, 0), (10, 0), (11, 0), (12, 0), (13, 0), (112, 0), (118, 0), (0, 1), (1, 1), (2, 1), (3, 1), (4, 1), (5, 1), (17, 1), (18, 1), (19, 1), (20, 1), (21, 1), (22, 1), (23, 1), (24, 1), (25, 1), (26, 1), (27, 1), (28, 1), (29, 1), (68, 1), (69, 1), (70, 1), (71, 1), (72, 1), (73, 1), (74, 1), (114, 1), (116, 1), (138, 1), (140, 1), (142, 1), (144, 1), (146, 1), (148, 1), (168, 1), (169, 1), (170, 1), (171, 1), (172, 1), (173, 1), (174, 1), (175, 1), (176, 1), (177, 1), (178, 1), (179, 1), (180, 1), (181, 1), (182, 1), (183, 1), (184, 1), (185, 1), (6, 2), (7, 2), (8, 2), (36, 2), (37, 2), (38, 2), (39, 2), (40, 2), (41, 2), (42, 2), (43, 2), (44, 2), (45, 2), (46, 2), (47, 2), (48, 2), (49, 2), (62, 2), (63, 2), (64, 2), (65, 2), (66, 2), (67, 2), (115, 2), (117, 2), (130, 2), (132, 2), (134, 2), (135, 2), (136, 2), (137, 2), (145, 2), (147, 2), (14, 3), (15, 3), (16, 3), (30, 3), (31, 3), (32, 3), (33, 3), (34, 3), (35, 3), (50, 3), (51, 3), (52, 3), (53, 3), (54, 3), (55, 3), (56, 3), (57, 3), (58, 3), (59, 3), (60, 3), (61, 3), (113, 3), (119, 3), (120, 3), (122, 3), (124, 3), (125, 3), (126, 3), (127, 3), (128, 3), (129, 3), (131, 3), (133, 3), (139, 3), (141, 3), (143, 3), (149, 3), (150, 3), (151, 3), (152, 3), (153, 3), (154, 3), (155, 3), (156, 3), (157, 3), (158, 3), (159, 3), (160, 3), (161, 3), (162, 3), (163, 3), (164, 3), (165, 3), (166, 3), (167, 3), (75, 4), (76, 4), (77, 4), (78, 4), (79, 4), (80, 4), (81, 4), (82, 4), (83, 4), (84, 4), (85, 4), (86, 4), (87, 4), (88, 4), (89, 4), (90, 4), (91, 4), (92, 4), (93, 4), (94, 4), (95, 4), (96, 4), (97, 4), (98, 4), (99, 4), (100, 4), (101, 4), (102, 4), (103, 4), (104, 4), (105, 4), (106, 4), (107, 4), (108, 4), (109, 4), (110, 4), (111, 4), (121, 4), (123, 4)]\n",
      "[(0, 7)]\n",
      "**********************\n",
      "[(120, 0), (122, 0), (128, 0), (159, 0), (160, 0), (161, 0), (162, 0), (163, 0), (164, 0), (165, 0), (166, 0), (167, 0), (36, 1), (37, 1), (38, 1), (39, 1), (40, 1), (48, 1), (49, 1), (50, 1), (51, 1), (52, 1), (53, 1), (54, 1), (55, 1), (56, 1), (75, 1), (76, 1), (77, 1), (78, 1), (79, 1), (80, 1), (81, 1), (82, 1), (83, 1), (84, 1), (85, 1), (86, 1), (87, 1), (89, 1), (90, 1), (91, 1), (92, 1), (93, 1), (94, 1), (105, 1), (106, 1), (107, 1), (110, 1), (111, 1), (124, 1), (126, 1), (130, 1), (132, 1), (134, 1), (136, 1), (150, 1), (151, 1), (152, 1), (153, 1), (154, 1), (155, 1), (156, 1), (157, 1), (158, 1), (17, 2), (18, 2), (19, 2), (20, 2), (21, 2), (22, 2), (23, 2), (24, 2), (25, 2), (26, 2), (27, 2), (28, 2), (29, 2), (41, 2), (42, 2), (43, 2), (44, 2), (45, 2), (46, 2), (47, 2), (57, 2), (58, 2), (59, 2), (60, 2), (61, 2), (88, 2), (95, 2), (96, 2), (97, 2), (98, 2), (99, 2), (100, 2), (101, 2), (102, 2), (103, 2), (104, 2), (108, 2), (109, 2), (125, 2), (127, 2), (135, 2), (137, 2), (138, 2), (140, 2), (142, 2), (144, 2), (145, 2), (146, 2), (147, 2), (148, 2), (168, 2), (169, 2), (170, 2), (171, 2), (172, 2), (173, 2), (174, 2), (175, 2), (176, 2), (177, 2), (178, 2), (179, 2), (180, 2), (181, 2), (182, 2), (183, 2), (184, 2), (185, 2), (0, 3), (1, 3), (2, 3), (3, 3), (4, 3), (5, 3), (6, 3), (7, 3), (8, 3), (9, 3), (10, 3), (11, 3), (12, 3), (13, 3), (30, 3), (31, 3), (32, 3), (33, 3), (34, 3), (35, 3), (62, 3), (63, 3), (64, 3), (65, 3), (66, 3), (67, 3), (68, 3), (69, 3), (70, 3), (71, 3), (72, 3), (73, 3), (74, 3), (112, 3), (114, 3), (115, 3), (116, 3), (117, 3), (118, 3), (121, 3), (123, 3), (129, 3), (131, 3), (133, 3), (139, 3), (141, 3), (143, 3), (149, 3), (14, 4), (15, 4), (16, 4), (113, 4), (119, 4)]\n",
      "[(0, 7)]\n",
      "**********************\n",
      "[(48, 0), (134, 0), (136, 0), (17, 1), (18, 1), (19, 1), (20, 1), (21, 1), (22, 1), (23, 1), (24, 1), (25, 1), (26, 1), (27, 1), (28, 1), (29, 1), (36, 1), (37, 1), (38, 1), (39, 1), (40, 1), (41, 1), (42, 1), (43, 1), (44, 1), (45, 1), (46, 1), (47, 1), (49, 1), (50, 1), (51, 1), (52, 1), (53, 1), (54, 1), (55, 1), (56, 1), (57, 1), (58, 1), (59, 1), (60, 1), (61, 1), (120, 1), (122, 1), (124, 1), (125, 1), (126, 1), (127, 1), (128, 1), (130, 1), (132, 1), (135, 1), (137, 1), (138, 1), (140, 1), (142, 1), (144, 1), (145, 1), (146, 1), (147, 1), (148, 1), (150, 1), (151, 1), (152, 1), (153, 1), (154, 1), (155, 1), (156, 1), (157, 1), (158, 1), (159, 1), (160, 1), (161, 1), (162, 1), (163, 1), (164, 1), (165, 1), (166, 1), (167, 1), (168, 1), (169, 1), (170, 1), (171, 1), (172, 1), (173, 1), (174, 1), (175, 1), (176, 1), (177, 1), (178, 1), (179, 1), (180, 1), (181, 1), (182, 1), (183, 1), (184, 1), (185, 1), (0, 2), (1, 2), (2, 2), (3, 2), (4, 2), (5, 2), (6, 2), (7, 2), (8, 2), (9, 2), (10, 2), (11, 2), (12, 2), (13, 2), (14, 2), (16, 2), (30, 2), (31, 2), (32, 2), (33, 2), (34, 2), (35, 2), (62, 2), (63, 2), (64, 2), (65, 2), (66, 2), (67, 2), (68, 2), (69, 2), (70, 2), (71, 2), (72, 2), (73, 2), (74, 2), (75, 2), (76, 2), (77, 2), (78, 2), (79, 2), (80, 2), (81, 2), (82, 2), (83, 2), (84, 2), (85, 2), (86, 2), (87, 2), (88, 2), (89, 2), (90, 2), (91, 2), (92, 2), (93, 2), (94, 2), (95, 2), (96, 2), (97, 2), (98, 2), (99, 2), (100, 2), (101, 2), (102, 2), (103, 2), (104, 2), (105, 2), (106, 2), (107, 2), (108, 2), (109, 2), (110, 2), (111, 2), (112, 2), (113, 2), (114, 2), (115, 2), (116, 2), (117, 2), (118, 2), (119, 2), (121, 2), (123, 2), (129, 2), (131, 2), (133, 2), (139, 2), (141, 2), (143, 2), (149, 2), (15, 3)]\n",
      "[(1, 4), (0, 3)]\n",
      "**********************\n",
      "[(130, 0), (132, 0), (17, 1), (18, 1), (19, 1), (20, 1), (21, 1), (22, 1), (23, 1), (24, 1), (25, 1), (26, 1), (27, 1), (28, 1), (29, 1), (36, 1), (37, 1), (38, 1), (39, 1), (40, 1), (48, 1), (49, 1), (50, 1), (51, 1), (52, 1), (53, 1), (54, 1), (55, 1), (56, 1), (120, 1), (122, 1), (124, 1), (126, 1), (128, 1), (134, 1), (136, 1), (138, 1), (140, 1), (142, 1), (144, 1), (146, 1), (148, 1), (150, 1), (151, 1), (152, 1), (153, 1), (154, 1), (155, 1), (156, 1), (157, 1), (158, 1), (159, 1), (160, 1), (161, 1), (162, 1), (163, 1), (164, 1), (165, 1), (166, 1), (167, 1), (168, 1), (169, 1), (170, 1), (171, 1), (172, 1), (173, 1), (174, 1), (175, 1), (176, 1), (177, 1), (178, 1), (179, 1), (180, 1), (181, 1), (182, 1), (183, 1), (184, 1), (185, 1), (0, 2), (1, 2), (2, 2), (3, 2), (4, 2), (5, 2), (6, 2), (7, 2), (8, 2), (9, 2), (10, 2), (11, 2), (12, 2), (13, 2), (41, 2), (42, 2), (43, 2), (44, 2), (45, 2), (46, 2), (47, 2), (57, 2), (58, 2), (59, 2), (60, 2), (61, 2), (63, 2), (64, 2), (66, 2), (67, 2), (68, 2), (69, 2), (70, 2), (71, 2), (72, 2), (73, 2), (74, 2), (75, 2), (76, 2), (77, 2), (78, 2), (79, 2), (80, 2), (81, 2), (82, 2), (83, 2), (84, 2), (85, 2), (86, 2), (87, 2), (88, 2), (89, 2), (90, 2), (91, 2), (92, 2), (93, 2), (94, 2), (103, 2), (104, 2), (105, 2), (106, 2), (107, 2), (108, 2), (109, 2), (110, 2), (111, 2), (112, 2), (114, 2), (115, 2), (116, 2), (117, 2), (118, 2), (125, 2), (127, 2), (135, 2), (137, 2), (145, 2), (147, 2), (14, 3), (15, 3), (16, 3), (30, 3), (31, 3), (32, 3), (33, 3), (34, 3), (35, 3), (62, 3), (65, 3), (95, 3), (96, 3), (97, 3), (98, 3), (99, 3), (100, 3), (101, 3), (102, 3), (113, 3), (119, 3), (121, 3), (123, 3), (129, 3), (131, 3), (133, 3), (139, 3), (141, 3), (143, 3), (149, 3)]\n",
      "[(1, 5), (0, 2)]\n",
      "**********************\n",
      "[1, 0, 0, 0, 0, 0, 0, 0, 1, 0, 0, 0, 0, 0, 0, 0, 0, 0, 0, 1, 1]\n",
      "19.047619047619047\n"
     ]
    }
   ],
   "source": [
    "# Applying k-Nearest Neighbors code again\n",
    "\n",
    "def euclideanDistance(data1,data2,length):\n",
    "    distance = 0\n",
    "    for i in range(length):\n",
    "        distance += np.square(data1[i]-data2[i])\n",
    "    return np.sqrt(distance)\n",
    "def KNN(trainset,testset,k):\n",
    "    distances = {}\n",
    "    length = len(testset)-1\n",
    "    for i in range(len(trainset)):\n",
    "        dist = euclideanDistance(testset,trainset[i],length)\n",
    "        dist=math.floor(dist)\n",
    "        distances[i]=dist\n",
    "    sortedd = sorted(distances.items(),key=operator.itemgetter(1))\n",
    "    print(sortedd)\n",
    "    neighbors = []\n",
    "    for i in range(k):\n",
    "        neighbors.append(sortedd[i])\n",
    "    return(neighbors)\n",
    "def getresponse(neis):\n",
    "    classvotes = {}\n",
    "    for i in range(len(neis)):\n",
    "        response = neis[i][-1]\n",
    "        if response in classvotes:\n",
    "            classvotes[response]+=1\n",
    "        else:\n",
    "            classvotes[response] = 1\n",
    "    sortedvotes = sorted(classvotes.items(),key = operator.itemgetter(1),reverse = True)\n",
    "    print(sortedvotes)\n",
    "    print(\"**********************\")\n",
    "    return sortedvotes[0][0]\n",
    "def getaccuracy(testset,predict):\n",
    "    correct = 0\n",
    "    for x in range(len(testset)):\n",
    "        if testset[x][-1] == predict[x]:\n",
    "            correct += 1\n",
    "    return (correct/float(len(testset))) * 100.0\n",
    "        \n",
    "k=7\n",
    "predict = []\n",
    "for i in range(len(dtest)):\n",
    "    nei=KNN(dtrain.values,dtest.values[i],k)\n",
    "    result = getresponse(nei)\n",
    "    predict.append(result)\n",
    "print(predict)\n",
    "accuracy = getaccuracy(dtest.values,predict)\n",
    "print(accuracy)"
   ]
  }
 ],
 "metadata": {
  "kernelspec": {
   "display_name": "Python 3",
   "language": "python",
   "name": "python3"
  },
  "language_info": {
   "codemirror_mode": {
    "name": "ipython",
    "version": 3
   },
   "file_extension": ".py",
   "mimetype": "text/x-python",
   "name": "python",
   "nbconvert_exporter": "python",
   "pygments_lexer": "ipython3",
   "version": "3.7.3"
  }
 },
 "nbformat": 4,
 "nbformat_minor": 2
}
